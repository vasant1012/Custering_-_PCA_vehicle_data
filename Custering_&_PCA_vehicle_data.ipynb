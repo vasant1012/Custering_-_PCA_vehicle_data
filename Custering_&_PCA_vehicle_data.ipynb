{
 "cells": [
  {
   "cell_type": "code",
   "execution_count": 2,
   "metadata": {
    "colab": {},
    "colab_type": "code",
    "id": "nDNsFHbfcdoM"
   },
   "outputs": [],
   "source": [
    "import pandas as pd\n",
    "import numpy as np\n",
    "import os\n",
    "import warnings\n",
    "warnings.filterwarnings('ignore')\n",
    "import seaborn as sns\n",
    "import matplotlib.pyplot as plt\n",
    "%matplotlib inline"
   ]
  },
  {
   "cell_type": "code",
   "execution_count": 3,
   "metadata": {
    "colab": {
     "base_uri": "https://localhost:8080/",
     "height": 379
    },
    "colab_type": "code",
    "executionInfo": {
     "elapsed": 2537,
     "status": "ok",
     "timestamp": 1574444348625,
     "user": {
      "displayName": "Vasant Rajadhyax",
      "photoUrl": "https://lh3.googleusercontent.com/a-/AAuE7mAFi7If5nThqBjjwpVBylU6mjSe55mxFjoYmyTJ=s64",
      "userId": "04443070192210893711"
     },
     "user_tz": -330
    },
    "id": "PgoMHpzHcdoa",
    "outputId": "28bf2b28-035e-4103-927f-50a5d32cba12"
   },
   "outputs": [
    {
     "data": {
      "text/html": [
       "<div>\n",
       "<style scoped>\n",
       "    .dataframe tbody tr th:only-of-type {\n",
       "        vertical-align: middle;\n",
       "    }\n",
       "\n",
       "    .dataframe tbody tr th {\n",
       "        vertical-align: top;\n",
       "    }\n",
       "\n",
       "    .dataframe thead th {\n",
       "        text-align: right;\n",
       "    }\n",
       "</style>\n",
       "<table border=\"1\" class=\"dataframe\">\n",
       "  <thead>\n",
       "    <tr style=\"text-align: right;\">\n",
       "      <th></th>\n",
       "      <th>compactness</th>\n",
       "      <th>circularity</th>\n",
       "      <th>distance_circularity</th>\n",
       "      <th>radius_ratio</th>\n",
       "      <th>pr.axis_aspect_ratio</th>\n",
       "      <th>max.length_aspect_ratio</th>\n",
       "      <th>scatter_ratio</th>\n",
       "      <th>elongatedness</th>\n",
       "      <th>pr.axis_rectangularity</th>\n",
       "      <th>max.length_rectangularity</th>\n",
       "      <th>scaled_variance</th>\n",
       "      <th>scaled_variance.1</th>\n",
       "      <th>scaled_radius_of_gyration</th>\n",
       "      <th>scaled_radius_of_gyration.1</th>\n",
       "      <th>skewness_about</th>\n",
       "      <th>skewness_about.1</th>\n",
       "      <th>skewness_about.2</th>\n",
       "      <th>hollows_ratio</th>\n",
       "      <th>class</th>\n",
       "    </tr>\n",
       "  </thead>\n",
       "  <tbody>\n",
       "    <tr>\n",
       "      <th>349</th>\n",
       "      <td>89</td>\n",
       "      <td>40.0</td>\n",
       "      <td>69.0</td>\n",
       "      <td>147.0</td>\n",
       "      <td>58.0</td>\n",
       "      <td>6</td>\n",
       "      <td>132.0</td>\n",
       "      <td>50.0</td>\n",
       "      <td>18.0</td>\n",
       "      <td>137</td>\n",
       "      <td>155.0</td>\n",
       "      <td>260.0</td>\n",
       "      <td>151.0</td>\n",
       "      <td>61.0</td>\n",
       "      <td>16.0</td>\n",
       "      <td>6.0</td>\n",
       "      <td>203.0</td>\n",
       "      <td>209</td>\n",
       "      <td>car</td>\n",
       "    </tr>\n",
       "    <tr>\n",
       "      <th>298</th>\n",
       "      <td>91</td>\n",
       "      <td>40.0</td>\n",
       "      <td>98.0</td>\n",
       "      <td>192.0</td>\n",
       "      <td>64.0</td>\n",
       "      <td>9</td>\n",
       "      <td>177.0</td>\n",
       "      <td>38.0</td>\n",
       "      <td>21.0</td>\n",
       "      <td>135</td>\n",
       "      <td>194.0</td>\n",
       "      <td>465.0</td>\n",
       "      <td>165.0</td>\n",
       "      <td>66.0</td>\n",
       "      <td>9.0</td>\n",
       "      <td>35.0</td>\n",
       "      <td>195.0</td>\n",
       "      <td>205</td>\n",
       "      <td>car</td>\n",
       "    </tr>\n",
       "    <tr>\n",
       "      <th>109</th>\n",
       "      <td>99</td>\n",
       "      <td>48.0</td>\n",
       "      <td>79.0</td>\n",
       "      <td>199.0</td>\n",
       "      <td>68.0</td>\n",
       "      <td>6</td>\n",
       "      <td>185.0</td>\n",
       "      <td>35.0</td>\n",
       "      <td>22.0</td>\n",
       "      <td>153</td>\n",
       "      <td>202.0</td>\n",
       "      <td>524.0</td>\n",
       "      <td>171.0</td>\n",
       "      <td>74.0</td>\n",
       "      <td>5.0</td>\n",
       "      <td>8.0</td>\n",
       "      <td>195.0</td>\n",
       "      <td>195</td>\n",
       "      <td>bus</td>\n",
       "    </tr>\n",
       "    <tr>\n",
       "      <th>773</th>\n",
       "      <td>87</td>\n",
       "      <td>42.0</td>\n",
       "      <td>70.0</td>\n",
       "      <td>139.0</td>\n",
       "      <td>59.0</td>\n",
       "      <td>7</td>\n",
       "      <td>149.0</td>\n",
       "      <td>45.0</td>\n",
       "      <td>19.0</td>\n",
       "      <td>142</td>\n",
       "      <td>177.0</td>\n",
       "      <td>327.0</td>\n",
       "      <td>156.0</td>\n",
       "      <td>78.0</td>\n",
       "      <td>6.0</td>\n",
       "      <td>9.0</td>\n",
       "      <td>185.0</td>\n",
       "      <td>188</td>\n",
       "      <td>bus</td>\n",
       "    </tr>\n",
       "    <tr>\n",
       "      <th>775</th>\n",
       "      <td>97</td>\n",
       "      <td>38.0</td>\n",
       "      <td>75.0</td>\n",
       "      <td>188.0</td>\n",
       "      <td>68.0</td>\n",
       "      <td>6</td>\n",
       "      <td>171.0</td>\n",
       "      <td>37.0</td>\n",
       "      <td>20.0</td>\n",
       "      <td>129</td>\n",
       "      <td>199.0</td>\n",
       "      <td>450.0</td>\n",
       "      <td>137.0</td>\n",
       "      <td>74.0</td>\n",
       "      <td>2.0</td>\n",
       "      <td>6.0</td>\n",
       "      <td>197.0</td>\n",
       "      <td>199</td>\n",
       "      <td>bus</td>\n",
       "    </tr>\n",
       "    <tr>\n",
       "      <th>790</th>\n",
       "      <td>85</td>\n",
       "      <td>43.0</td>\n",
       "      <td>66.0</td>\n",
       "      <td>120.0</td>\n",
       "      <td>54.0</td>\n",
       "      <td>5</td>\n",
       "      <td>148.0</td>\n",
       "      <td>46.0</td>\n",
       "      <td>19.0</td>\n",
       "      <td>145</td>\n",
       "      <td>168.0</td>\n",
       "      <td>320.0</td>\n",
       "      <td>174.0</td>\n",
       "      <td>87.0</td>\n",
       "      <td>8.0</td>\n",
       "      <td>2.0</td>\n",
       "      <td>179.0</td>\n",
       "      <td>181</td>\n",
       "      <td>bus</td>\n",
       "    </tr>\n",
       "    <tr>\n",
       "      <th>440</th>\n",
       "      <td>101</td>\n",
       "      <td>51.0</td>\n",
       "      <td>98.0</td>\n",
       "      <td>194.0</td>\n",
       "      <td>60.0</td>\n",
       "      <td>10</td>\n",
       "      <td>195.0</td>\n",
       "      <td>34.0</td>\n",
       "      <td>22.0</td>\n",
       "      <td>161</td>\n",
       "      <td>219.0</td>\n",
       "      <td>572.0</td>\n",
       "      <td>219.0</td>\n",
       "      <td>67.0</td>\n",
       "      <td>0.0</td>\n",
       "      <td>10.0</td>\n",
       "      <td>192.0</td>\n",
       "      <td>201</td>\n",
       "      <td>car</td>\n",
       "    </tr>\n",
       "    <tr>\n",
       "      <th>749</th>\n",
       "      <td>93</td>\n",
       "      <td>51.0</td>\n",
       "      <td>90.0</td>\n",
       "      <td>209.0</td>\n",
       "      <td>69.0</td>\n",
       "      <td>8</td>\n",
       "      <td>183.0</td>\n",
       "      <td>36.0</td>\n",
       "      <td>22.0</td>\n",
       "      <td>156</td>\n",
       "      <td>211.0</td>\n",
       "      <td>506.0</td>\n",
       "      <td>230.0</td>\n",
       "      <td>70.0</td>\n",
       "      <td>6.0</td>\n",
       "      <td>1.0</td>\n",
       "      <td>189.0</td>\n",
       "      <td>196</td>\n",
       "      <td>car</td>\n",
       "    </tr>\n",
       "    <tr>\n",
       "      <th>336</th>\n",
       "      <td>89</td>\n",
       "      <td>44.0</td>\n",
       "      <td>76.0</td>\n",
       "      <td>125.0</td>\n",
       "      <td>54.0</td>\n",
       "      <td>10</td>\n",
       "      <td>156.0</td>\n",
       "      <td>44.0</td>\n",
       "      <td>20.0</td>\n",
       "      <td>151</td>\n",
       "      <td>163.0</td>\n",
       "      <td>352.0</td>\n",
       "      <td>176.0</td>\n",
       "      <td>76.0</td>\n",
       "      <td>12.0</td>\n",
       "      <td>12.0</td>\n",
       "      <td>184.0</td>\n",
       "      <td>193</td>\n",
       "      <td>van</td>\n",
       "    </tr>\n",
       "    <tr>\n",
       "      <th>254</th>\n",
       "      <td>93</td>\n",
       "      <td>47.0</td>\n",
       "      <td>85.0</td>\n",
       "      <td>161.0</td>\n",
       "      <td>65.0</td>\n",
       "      <td>12</td>\n",
       "      <td>155.0</td>\n",
       "      <td>43.0</td>\n",
       "      <td>19.0</td>\n",
       "      <td>157</td>\n",
       "      <td>179.0</td>\n",
       "      <td>354.0</td>\n",
       "      <td>178.0</td>\n",
       "      <td>76.0</td>\n",
       "      <td>2.0</td>\n",
       "      <td>9.0</td>\n",
       "      <td>184.0</td>\n",
       "      <td>196</td>\n",
       "      <td>van</td>\n",
       "    </tr>\n",
       "  </tbody>\n",
       "</table>\n",
       "</div>"
      ],
      "text/plain": [
       "     compactness  circularity  distance_circularity  radius_ratio  \\\n",
       "349           89         40.0                  69.0         147.0   \n",
       "298           91         40.0                  98.0         192.0   \n",
       "109           99         48.0                  79.0         199.0   \n",
       "773           87         42.0                  70.0         139.0   \n",
       "775           97         38.0                  75.0         188.0   \n",
       "790           85         43.0                  66.0         120.0   \n",
       "440          101         51.0                  98.0         194.0   \n",
       "749           93         51.0                  90.0         209.0   \n",
       "336           89         44.0                  76.0         125.0   \n",
       "254           93         47.0                  85.0         161.0   \n",
       "\n",
       "     pr.axis_aspect_ratio  max.length_aspect_ratio  scatter_ratio  \\\n",
       "349                  58.0                        6          132.0   \n",
       "298                  64.0                        9          177.0   \n",
       "109                  68.0                        6          185.0   \n",
       "773                  59.0                        7          149.0   \n",
       "775                  68.0                        6          171.0   \n",
       "790                  54.0                        5          148.0   \n",
       "440                  60.0                       10          195.0   \n",
       "749                  69.0                        8          183.0   \n",
       "336                  54.0                       10          156.0   \n",
       "254                  65.0                       12          155.0   \n",
       "\n",
       "     elongatedness  pr.axis_rectangularity  max.length_rectangularity  \\\n",
       "349           50.0                    18.0                        137   \n",
       "298           38.0                    21.0                        135   \n",
       "109           35.0                    22.0                        153   \n",
       "773           45.0                    19.0                        142   \n",
       "775           37.0                    20.0                        129   \n",
       "790           46.0                    19.0                        145   \n",
       "440           34.0                    22.0                        161   \n",
       "749           36.0                    22.0                        156   \n",
       "336           44.0                    20.0                        151   \n",
       "254           43.0                    19.0                        157   \n",
       "\n",
       "     scaled_variance  scaled_variance.1  scaled_radius_of_gyration  \\\n",
       "349            155.0              260.0                      151.0   \n",
       "298            194.0              465.0                      165.0   \n",
       "109            202.0              524.0                      171.0   \n",
       "773            177.0              327.0                      156.0   \n",
       "775            199.0              450.0                      137.0   \n",
       "790            168.0              320.0                      174.0   \n",
       "440            219.0              572.0                      219.0   \n",
       "749            211.0              506.0                      230.0   \n",
       "336            163.0              352.0                      176.0   \n",
       "254            179.0              354.0                      178.0   \n",
       "\n",
       "     scaled_radius_of_gyration.1  skewness_about  skewness_about.1  \\\n",
       "349                         61.0            16.0               6.0   \n",
       "298                         66.0             9.0              35.0   \n",
       "109                         74.0             5.0               8.0   \n",
       "773                         78.0             6.0               9.0   \n",
       "775                         74.0             2.0               6.0   \n",
       "790                         87.0             8.0               2.0   \n",
       "440                         67.0             0.0              10.0   \n",
       "749                         70.0             6.0               1.0   \n",
       "336                         76.0            12.0              12.0   \n",
       "254                         76.0             2.0               9.0   \n",
       "\n",
       "     skewness_about.2  hollows_ratio class  \n",
       "349             203.0            209   car  \n",
       "298             195.0            205   car  \n",
       "109             195.0            195   bus  \n",
       "773             185.0            188   bus  \n",
       "775             197.0            199   bus  \n",
       "790             179.0            181   bus  \n",
       "440             192.0            201   car  \n",
       "749             189.0            196   car  \n",
       "336             184.0            193   van  \n",
       "254             184.0            196   van  "
      ]
     },
     "execution_count": 3,
     "metadata": {},
     "output_type": "execute_result"
    }
   ],
   "source": [
    "df = pd.read_csv(\"vehicle.csv\")\n",
    "df.sample(10)"
   ]
  },
  {
   "cell_type": "code",
   "execution_count": 62,
   "metadata": {
    "colab": {
     "base_uri": "https://localhost:8080/",
     "height": 34
    },
    "colab_type": "code",
    "executionInfo": {
     "elapsed": 2527,
     "status": "ok",
     "timestamp": 1574444348626,
     "user": {
      "displayName": "Vasant Rajadhyax",
      "photoUrl": "https://lh3.googleusercontent.com/a-/AAuE7mAFi7If5nThqBjjwpVBylU6mjSe55mxFjoYmyTJ=s64",
      "userId": "04443070192210893711"
     },
     "user_tz": -330
    },
    "id": "hpKm2RB_cdok",
    "outputId": "19273715-3e12-4bdd-a85e-85c8206265bb"
   },
   "outputs": [
    {
     "data": {
      "text/plain": [
       "(846, 19)"
      ]
     },
     "execution_count": 62,
     "metadata": {
      "tags": []
     },
     "output_type": "execute_result"
    }
   ],
   "source": [
    "df.shape"
   ]
  },
  {
   "cell_type": "code",
   "execution_count": 63,
   "metadata": {
    "colab": {
     "base_uri": "https://localhost:8080/",
     "height": 425
    },
    "colab_type": "code",
    "executionInfo": {
     "elapsed": 2517,
     "status": "ok",
     "timestamp": 1574444348628,
     "user": {
      "displayName": "Vasant Rajadhyax",
      "photoUrl": "https://lh3.googleusercontent.com/a-/AAuE7mAFi7If5nThqBjjwpVBylU6mjSe55mxFjoYmyTJ=s64",
      "userId": "04443070192210893711"
     },
     "user_tz": -330
    },
    "id": "It3I_RWacdor",
    "outputId": "77fd116e-2304-483b-b8f9-eb24f0c35d45"
   },
   "outputs": [
    {
     "name": "stdout",
     "output_type": "stream",
     "text": [
      "<class 'pandas.core.frame.DataFrame'>\n",
      "RangeIndex: 846 entries, 0 to 845\n",
      "Data columns (total 19 columns):\n",
      "compactness                    846 non-null int64\n",
      "circularity                    841 non-null float64\n",
      "distance_circularity           842 non-null float64\n",
      "radius_ratio                   840 non-null float64\n",
      "pr.axis_aspect_ratio           844 non-null float64\n",
      "max.length_aspect_ratio        846 non-null int64\n",
      "scatter_ratio                  845 non-null float64\n",
      "elongatedness                  845 non-null float64\n",
      "pr.axis_rectangularity         843 non-null float64\n",
      "max.length_rectangularity      846 non-null int64\n",
      "scaled_variance                843 non-null float64\n",
      "scaled_variance.1              844 non-null float64\n",
      "scaled_radius_of_gyration      844 non-null float64\n",
      "scaled_radius_of_gyration.1    842 non-null float64\n",
      "skewness_about                 840 non-null float64\n",
      "skewness_about.1               845 non-null float64\n",
      "skewness_about.2               845 non-null float64\n",
      "hollows_ratio                  846 non-null int64\n",
      "class                          846 non-null object\n",
      "dtypes: float64(14), int64(4), object(1)\n",
      "memory usage: 125.7+ KB\n"
     ]
    }
   ],
   "source": [
    "df.info()"
   ]
  },
  {
   "cell_type": "markdown",
   "metadata": {
    "colab_type": "text",
    "id": "HiBizXHQFNi3"
   },
   "source": [
    "## Finding Misssing Values"
   ]
  },
  {
   "cell_type": "code",
   "execution_count": 64,
   "metadata": {
    "colab": {
     "base_uri": "https://localhost:8080/",
     "height": 51
    },
    "colab_type": "code",
    "executionInfo": {
     "elapsed": 2505,
     "status": "ok",
     "timestamp": 1574444348629,
     "user": {
      "displayName": "Vasant Rajadhyax",
      "photoUrl": "https://lh3.googleusercontent.com/a-/AAuE7mAFi7If5nThqBjjwpVBylU6mjSe55mxFjoYmyTJ=s64",
      "userId": "04443070192210893711"
     },
     "user_tz": -330
    },
    "id": "pW4qTiQ1cdpE",
    "outputId": "bb270260-9c55-4555-bf92-545ceec24aaf"
   },
   "outputs": [
    {
     "name": "stdout",
     "output_type": "stream",
     "text": [
      "No. of columns containing null values\n",
      "14\n"
     ]
    }
   ],
   "source": [
    "print(\"No. of columns containing null values\")\n",
    "print(len(df.columns[df.isna().any()]))"
   ]
  },
  {
   "cell_type": "code",
   "execution_count": 65,
   "metadata": {
    "colab": {
     "base_uri": "https://localhost:8080/",
     "height": 340
    },
    "colab_type": "code",
    "executionInfo": {
     "elapsed": 2495,
     "status": "ok",
     "timestamp": 1574444348631,
     "user": {
      "displayName": "Vasant Rajadhyax",
      "photoUrl": "https://lh3.googleusercontent.com/a-/AAuE7mAFi7If5nThqBjjwpVBylU6mjSe55mxFjoYmyTJ=s64",
      "userId": "04443070192210893711"
     },
     "user_tz": -330
    },
    "id": "9bTgExD8A1Qt",
    "outputId": "f00902b0-e914-46f7-8192-1f903488d692"
   },
   "outputs": [
    {
     "name": "stdout",
     "output_type": "stream",
     "text": [
      "column: compactness   Missing: 0\n",
      "column: circularity   Missing: 5\n",
      "column: distance_circularity   Missing: 4\n",
      "column: radius_ratio   Missing: 6\n",
      "column: pr.axis_aspect_ratio   Missing: 2\n",
      "column: max.length_aspect_ratio   Missing: 0\n",
      "column: scatter_ratio   Missing: 1\n",
      "column: elongatedness   Missing: 1\n",
      "column: pr.axis_rectangularity   Missing: 3\n",
      "column: max.length_rectangularity   Missing: 0\n",
      "column: scaled_variance   Missing: 3\n",
      "column: scaled_variance.1   Missing: 2\n",
      "column: scaled_radius_of_gyration   Missing: 2\n",
      "column: scaled_radius_of_gyration.1   Missing: 4\n",
      "column: skewness_about   Missing: 6\n",
      "column: skewness_about.1   Missing: 1\n",
      "column: skewness_about.2   Missing: 1\n",
      "column: hollows_ratio   Missing: 0\n",
      "column: class   Missing: 0\n"
     ]
    }
   ],
   "source": [
    "for col_name in df.columns: \n",
    "    print (\"column:\",col_name,\"  Missing:\",sum(df[col_name].isnull()))"
   ]
  },
  {
   "cell_type": "markdown",
   "metadata": {
    "colab_type": "text",
    "id": "NAA4aTubFUbP"
   },
   "source": [
    "## Treating Missing Values"
   ]
  },
  {
   "cell_type": "code",
   "execution_count": 0,
   "metadata": {
    "colab": {},
    "colab_type": "code",
    "id": "zZ0D4pr6338c"
   },
   "outputs": [],
   "source": [
    "df[\"circularity\"].replace(np.nan, value=df[\"circularity\"].median(), inplace=True)\n",
    "df[\"distance_circularity\"].replace(np.nan, value=df[\"distance_circularity\"].median(), inplace=True)\n",
    "df[\"radius_ratio\"].replace(np.nan, value=df[\"radius_ratio\"].median(), inplace=True)\n",
    "df[\"pr.axis_aspect_ratio\"].replace(np.nan, value=df[\"pr.axis_aspect_ratio\"].median(), inplace=True)\n",
    "df[\"scatter_ratio\"].replace(np.nan, value=df[\"scatter_ratio\"].median(), inplace=True)\n",
    "df[\"elongatedness\"].replace(np.nan, value=df[\"elongatedness\"].median(), inplace=True)\n",
    "df[\"pr.axis_rectangularity\"].replace(np.nan, value=df[\"pr.axis_rectangularity\"].median(), inplace=True)\n",
    "df[\"scaled_variance\"].replace(np.nan, value=df[\"scaled_variance\"].median(), inplace=True)\n",
    "df[\"scaled_variance.1\"].replace(np.nan, value=df[\"scaled_variance.1\"].median(), inplace=True)\n",
    "df[\"scaled_radius_of_gyration\"].replace(np.nan, value=df[\"scaled_radius_of_gyration\"].median(), inplace=True)\n",
    "df[\"scaled_radius_of_gyration.1\"].replace(np.nan, value=df[\"scaled_radius_of_gyration.1\"].median(), inplace=True)\n",
    "df[\"skewness_about\"].replace(np.nan, value=df[\"skewness_about\"].median(), inplace=True)\n",
    "df[\"skewness_about.1\"].replace(np.nan, value=df[\"skewness_about.1\"].median(), inplace=True)\n",
    "df[\"skewness_about.2\"].replace(np.nan, value=df[\"skewness_about.2\"].median(), inplace=True)"
   ]
  },
  {
   "cell_type": "code",
   "execution_count": 67,
   "metadata": {
    "colab": {
     "base_uri": "https://localhost:8080/",
     "height": 357
    },
    "colab_type": "code",
    "executionInfo": {
     "elapsed": 2481,
     "status": "ok",
     "timestamp": 1574444348633,
     "user": {
      "displayName": "Vasant Rajadhyax",
      "photoUrl": "https://lh3.googleusercontent.com/a-/AAuE7mAFi7If5nThqBjjwpVBylU6mjSe55mxFjoYmyTJ=s64",
      "userId": "04443070192210893711"
     },
     "user_tz": -330
    },
    "id": "smBZJoYIxLFs",
    "outputId": "c1cf2e84-918b-4f78-9f88-9c4f7f1424c7"
   },
   "outputs": [
    {
     "data": {
      "text/plain": [
       "compactness                    False\n",
       "circularity                    False\n",
       "distance_circularity           False\n",
       "radius_ratio                   False\n",
       "pr.axis_aspect_ratio           False\n",
       "max.length_aspect_ratio        False\n",
       "scatter_ratio                  False\n",
       "elongatedness                  False\n",
       "pr.axis_rectangularity         False\n",
       "max.length_rectangularity      False\n",
       "scaled_variance                False\n",
       "scaled_variance.1              False\n",
       "scaled_radius_of_gyration      False\n",
       "scaled_radius_of_gyration.1    False\n",
       "skewness_about                 False\n",
       "skewness_about.1               False\n",
       "skewness_about.2               False\n",
       "hollows_ratio                  False\n",
       "class                          False\n",
       "dtype: bool"
      ]
     },
     "execution_count": 67,
     "metadata": {
      "tags": []
     },
     "output_type": "execute_result"
    }
   ],
   "source": [
    "df.isna().any()"
   ]
  },
  {
   "cell_type": "markdown",
   "metadata": {
    "colab_type": "text",
    "id": "YZc5eXvkFKq6"
   },
   "source": [
    "## Handling and removing the Outliers"
   ]
  },
  {
   "cell_type": "code",
   "execution_count": 68,
   "metadata": {
    "colab": {
     "base_uri": "https://localhost:8080/",
     "height": 1000
    },
    "colab_type": "code",
    "executionInfo": {
     "elapsed": 5691,
     "status": "ok",
     "timestamp": 1574444351853,
     "user": {
      "displayName": "Vasant Rajadhyax",
      "photoUrl": "https://lh3.googleusercontent.com/a-/AAuE7mAFi7If5nThqBjjwpVBylU6mjSe55mxFjoYmyTJ=s64",
      "userId": "04443070192210893711"
     },
     "user_tz": -330
    },
    "id": "lvUC4ax4E4Xb",
    "outputId": "1e831e0c-d9e3-492e-cff3-89b06adafcc1"
   },
   "outputs": [
    {
     "data": {
      "text/plain": [
       "<matplotlib.axes._subplots.AxesSubplot at 0x7fa93cc89400>"
      ]
     },
     "execution_count": 68,
     "metadata": {
      "tags": []
     },
     "output_type": "execute_result"
    },
    {
     "data": {
      "image/png": "[encoded data removed]",
      "text/plain": [
       "<Figure size 3240x1800 with 1 Axes>"
      ]
     },
     "metadata": {
      "tags": []
     },
     "output_type": "display_data"
    }
   ],
   "source": [
    "df.boxplot(figsize=(45,25))"
   ]
  },
  {
   "cell_type": "code",
   "execution_count": 69,
   "metadata": {
    "colab": {
     "base_uri": "https://localhost:8080/",
     "height": 296
    },
    "colab_type": "code",
    "executionInfo": {
     "elapsed": 5681,
     "status": "ok",
     "timestamp": 1574444351854,
     "user": {
      "displayName": "Vasant Rajadhyax",
      "photoUrl": "https://lh3.googleusercontent.com/a-/AAuE7mAFi7If5nThqBjjwpVBylU6mjSe55mxFjoYmyTJ=s64",
      "userId": "04443070192210893711"
     },
     "user_tz": -330
    },
    "id": "5eQgYdyccW1Z",
    "outputId": "960982b4-8782-41ee-eb92-43d7f2913538"
   },
   "outputs": [
    {
     "data": {
      "text/plain": [
       "<matplotlib.axes._subplots.AxesSubplot at 0x7fa9238b1e10>"
      ]
     },
     "execution_count": 69,
     "metadata": {
      "tags": []
     },
     "output_type": "execute_result"
    },
    {
     "data": {
      "image/png": "[encoded data removed]",
      "text/plain": [
       "<Figure size 432x288 with 1 Axes>"
      ]
     },
     "metadata": {
      "tags": []
     },
     "output_type": "display_data"
    }
   ],
   "source": [
    "sns.boxplot(x=\"class\", y=\"radius_ratio\", data=df)"
   ]
  },
  {
   "cell_type": "markdown",
   "metadata": {
    "colab_type": "text",
    "id": "sZbc0fhAcswu"
   },
   "source": [
    "In **radius_ratio**, classification values for **van** has outliers. So we only moves the values more than **180** in **van** which as considered as outliers."
   ]
  },
  {
   "cell_type": "code",
   "execution_count": 0,
   "metadata": {
    "colab": {},
    "colab_type": "code",
    "id": "jvhG9z1F0F61"
   },
   "outputs": [],
   "source": [
    "df_radius_ratio = pd.crosstab(df['radius_ratio'],df['class'])"
   ]
  },
  {
   "cell_type": "code",
   "execution_count": 71,
   "metadata": {
    "colab": {
     "base_uri": "https://localhost:8080/",
     "height": 1000
    },
    "colab_type": "code",
    "executionInfo": {
     "elapsed": 5666,
     "status": "ok",
     "timestamp": 1574444351855,
     "user": {
      "displayName": "Vasant Rajadhyax",
      "photoUrl": "https://lh3.googleusercontent.com/a-/AAuE7mAFi7If5nThqBjjwpVBylU6mjSe55mxFjoYmyTJ=s64",
      "userId": "04443070192210893711"
     },
     "user_tz": -330
    },
    "id": "0lf1ts2J37Z6",
    "outputId": "29e45188-90f8-4ec0-f636-4bde92118d61"
   },
   "outputs": [
    {
     "data": {
      "text/html": [
       "<div>\n",
       "<style scoped>\n",
       "    .dataframe tbody tr th:only-of-type {\n",
       "        vertical-align: middle;\n",
       "    }\n",
       "\n",
       "    .dataframe tbody tr th {\n",
       "        vertical-align: top;\n",
       "    }\n",
       "\n",
       "    .dataframe thead th {\n",
       "        text-align: right;\n",
       "    }\n",
       "</style>\n",
       "<table border=\"1\" class=\"dataframe\">\n",
       "  <thead>\n",
       "    <tr style=\"text-align: right;\">\n",
       "      <th>class</th>\n",
       "      <th>bus</th>\n",
       "      <th>car</th>\n",
       "      <th>van</th>\n",
       "    </tr>\n",
       "    <tr>\n",
       "      <th>radius_ratio</th>\n",
       "      <th></th>\n",
       "      <th></th>\n",
       "      <th></th>\n",
       "    </tr>\n",
       "  </thead>\n",
       "  <tbody>\n",
       "    <tr>\n",
       "      <th>104.0</th>\n",
       "      <td>0</td>\n",
       "      <td>1</td>\n",
       "      <td>0</td>\n",
       "    </tr>\n",
       "    <tr>\n",
       "      <th>105.0</th>\n",
       "      <td>0</td>\n",
       "      <td>0</td>\n",
       "      <td>1</td>\n",
       "    </tr>\n",
       "    <tr>\n",
       "      <th>109.0</th>\n",
       "      <td>0</td>\n",
       "      <td>0</td>\n",
       "      <td>1</td>\n",
       "    </tr>\n",
       "    <tr>\n",
       "      <th>110.0</th>\n",
       "      <td>0</td>\n",
       "      <td>1</td>\n",
       "      <td>2</td>\n",
       "    </tr>\n",
       "    <tr>\n",
       "      <th>111.0</th>\n",
       "      <td>0</td>\n",
       "      <td>1</td>\n",
       "      <td>3</td>\n",
       "    </tr>\n",
       "    <tr>\n",
       "      <th>112.0</th>\n",
       "      <td>0</td>\n",
       "      <td>0</td>\n",
       "      <td>1</td>\n",
       "    </tr>\n",
       "    <tr>\n",
       "      <th>113.0</th>\n",
       "      <td>2</td>\n",
       "      <td>0</td>\n",
       "      <td>2</td>\n",
       "    </tr>\n",
       "    <tr>\n",
       "      <th>114.0</th>\n",
       "      <td>0</td>\n",
       "      <td>1</td>\n",
       "      <td>3</td>\n",
       "    </tr>\n",
       "    <tr>\n",
       "      <th>115.0</th>\n",
       "      <td>0</td>\n",
       "      <td>2</td>\n",
       "      <td>2</td>\n",
       "    </tr>\n",
       "    <tr>\n",
       "      <th>116.0</th>\n",
       "      <td>2</td>\n",
       "      <td>3</td>\n",
       "      <td>2</td>\n",
       "    </tr>\n",
       "    <tr>\n",
       "      <th>117.0</th>\n",
       "      <td>0</td>\n",
       "      <td>1</td>\n",
       "      <td>3</td>\n",
       "    </tr>\n",
       "    <tr>\n",
       "      <th>118.0</th>\n",
       "      <td>1</td>\n",
       "      <td>1</td>\n",
       "      <td>0</td>\n",
       "    </tr>\n",
       "    <tr>\n",
       "      <th>119.0</th>\n",
       "      <td>1</td>\n",
       "      <td>2</td>\n",
       "      <td>2</td>\n",
       "    </tr>\n",
       "    <tr>\n",
       "      <th>120.0</th>\n",
       "      <td>7</td>\n",
       "      <td>1</td>\n",
       "      <td>1</td>\n",
       "    </tr>\n",
       "    <tr>\n",
       "      <th>121.0</th>\n",
       "      <td>2</td>\n",
       "      <td>3</td>\n",
       "      <td>3</td>\n",
       "    </tr>\n",
       "    <tr>\n",
       "      <th>122.0</th>\n",
       "      <td>3</td>\n",
       "      <td>2</td>\n",
       "      <td>0</td>\n",
       "    </tr>\n",
       "    <tr>\n",
       "      <th>123.0</th>\n",
       "      <td>6</td>\n",
       "      <td>2</td>\n",
       "      <td>2</td>\n",
       "    </tr>\n",
       "    <tr>\n",
       "      <th>124.0</th>\n",
       "      <td>1</td>\n",
       "      <td>0</td>\n",
       "      <td>2</td>\n",
       "    </tr>\n",
       "    <tr>\n",
       "      <th>125.0</th>\n",
       "      <td>5</td>\n",
       "      <td>2</td>\n",
       "      <td>6</td>\n",
       "    </tr>\n",
       "    <tr>\n",
       "      <th>126.0</th>\n",
       "      <td>3</td>\n",
       "      <td>1</td>\n",
       "      <td>4</td>\n",
       "    </tr>\n",
       "    <tr>\n",
       "      <th>127.0</th>\n",
       "      <td>1</td>\n",
       "      <td>5</td>\n",
       "      <td>1</td>\n",
       "    </tr>\n",
       "    <tr>\n",
       "      <th>128.0</th>\n",
       "      <td>4</td>\n",
       "      <td>2</td>\n",
       "      <td>0</td>\n",
       "    </tr>\n",
       "    <tr>\n",
       "      <th>129.0</th>\n",
       "      <td>1</td>\n",
       "      <td>2</td>\n",
       "      <td>2</td>\n",
       "    </tr>\n",
       "    <tr>\n",
       "      <th>130.0</th>\n",
       "      <td>5</td>\n",
       "      <td>5</td>\n",
       "      <td>2</td>\n",
       "    </tr>\n",
       "    <tr>\n",
       "      <th>131.0</th>\n",
       "      <td>0</td>\n",
       "      <td>2</td>\n",
       "      <td>4</td>\n",
       "    </tr>\n",
       "    <tr>\n",
       "      <th>132.0</th>\n",
       "      <td>1</td>\n",
       "      <td>3</td>\n",
       "      <td>1</td>\n",
       "    </tr>\n",
       "    <tr>\n",
       "      <th>133.0</th>\n",
       "      <td>1</td>\n",
       "      <td>3</td>\n",
       "      <td>7</td>\n",
       "    </tr>\n",
       "    <tr>\n",
       "      <th>134.0</th>\n",
       "      <td>0</td>\n",
       "      <td>1</td>\n",
       "      <td>2</td>\n",
       "    </tr>\n",
       "    <tr>\n",
       "      <th>135.0</th>\n",
       "      <td>1</td>\n",
       "      <td>2</td>\n",
       "      <td>2</td>\n",
       "    </tr>\n",
       "    <tr>\n",
       "      <th>136.0</th>\n",
       "      <td>1</td>\n",
       "      <td>5</td>\n",
       "      <td>5</td>\n",
       "    </tr>\n",
       "    <tr>\n",
       "      <th>137.0</th>\n",
       "      <td>2</td>\n",
       "      <td>2</td>\n",
       "      <td>5</td>\n",
       "    </tr>\n",
       "    <tr>\n",
       "      <th>138.0</th>\n",
       "      <td>0</td>\n",
       "      <td>3</td>\n",
       "      <td>4</td>\n",
       "    </tr>\n",
       "    <tr>\n",
       "      <th>139.0</th>\n",
       "      <td>5</td>\n",
       "      <td>1</td>\n",
       "      <td>6</td>\n",
       "    </tr>\n",
       "    <tr>\n",
       "      <th>140.0</th>\n",
       "      <td>1</td>\n",
       "      <td>5</td>\n",
       "      <td>4</td>\n",
       "    </tr>\n",
       "    <tr>\n",
       "      <th>141.0</th>\n",
       "      <td>4</td>\n",
       "      <td>3</td>\n",
       "      <td>4</td>\n",
       "    </tr>\n",
       "    <tr>\n",
       "      <th>142.0</th>\n",
       "      <td>0</td>\n",
       "      <td>2</td>\n",
       "      <td>4</td>\n",
       "    </tr>\n",
       "    <tr>\n",
       "      <th>143.0</th>\n",
       "      <td>0</td>\n",
       "      <td>1</td>\n",
       "      <td>5</td>\n",
       "    </tr>\n",
       "    <tr>\n",
       "      <th>144.0</th>\n",
       "      <td>1</td>\n",
       "      <td>3</td>\n",
       "      <td>4</td>\n",
       "    </tr>\n",
       "    <tr>\n",
       "      <th>145.0</th>\n",
       "      <td>0</td>\n",
       "      <td>2</td>\n",
       "      <td>4</td>\n",
       "    </tr>\n",
       "    <tr>\n",
       "      <th>146.0</th>\n",
       "      <td>1</td>\n",
       "      <td>4</td>\n",
       "      <td>1</td>\n",
       "    </tr>\n",
       "    <tr>\n",
       "      <th>147.0</th>\n",
       "      <td>1</td>\n",
       "      <td>2</td>\n",
       "      <td>6</td>\n",
       "    </tr>\n",
       "    <tr>\n",
       "      <th>148.0</th>\n",
       "      <td>4</td>\n",
       "      <td>1</td>\n",
       "      <td>2</td>\n",
       "    </tr>\n",
       "    <tr>\n",
       "      <th>149.0</th>\n",
       "      <td>1</td>\n",
       "      <td>3</td>\n",
       "      <td>4</td>\n",
       "    </tr>\n",
       "    <tr>\n",
       "      <th>150.0</th>\n",
       "      <td>2</td>\n",
       "      <td>1</td>\n",
       "      <td>9</td>\n",
       "    </tr>\n",
       "    <tr>\n",
       "      <th>151.0</th>\n",
       "      <td>1</td>\n",
       "      <td>3</td>\n",
       "      <td>4</td>\n",
       "    </tr>\n",
       "    <tr>\n",
       "      <th>152.0</th>\n",
       "      <td>3</td>\n",
       "      <td>2</td>\n",
       "      <td>1</td>\n",
       "    </tr>\n",
       "    <tr>\n",
       "      <th>153.0</th>\n",
       "      <td>1</td>\n",
       "      <td>4</td>\n",
       "      <td>1</td>\n",
       "    </tr>\n",
       "    <tr>\n",
       "      <th>154.0</th>\n",
       "      <td>5</td>\n",
       "      <td>2</td>\n",
       "      <td>2</td>\n",
       "    </tr>\n",
       "    <tr>\n",
       "      <th>155.0</th>\n",
       "      <td>5</td>\n",
       "      <td>2</td>\n",
       "      <td>1</td>\n",
       "    </tr>\n",
       "    <tr>\n",
       "      <th>156.0</th>\n",
       "      <td>3</td>\n",
       "      <td>3</td>\n",
       "      <td>0</td>\n",
       "    </tr>\n",
       "    <tr>\n",
       "      <th>157.0</th>\n",
       "      <td>0</td>\n",
       "      <td>1</td>\n",
       "      <td>5</td>\n",
       "    </tr>\n",
       "    <tr>\n",
       "      <th>158.0</th>\n",
       "      <td>3</td>\n",
       "      <td>4</td>\n",
       "      <td>2</td>\n",
       "    </tr>\n",
       "    <tr>\n",
       "      <th>159.0</th>\n",
       "      <td>3</td>\n",
       "      <td>1</td>\n",
       "      <td>5</td>\n",
       "    </tr>\n",
       "    <tr>\n",
       "      <th>160.0</th>\n",
       "      <td>2</td>\n",
       "      <td>2</td>\n",
       "      <td>6</td>\n",
       "    </tr>\n",
       "    <tr>\n",
       "      <th>161.0</th>\n",
       "      <td>2</td>\n",
       "      <td>3</td>\n",
       "      <td>4</td>\n",
       "    </tr>\n",
       "    <tr>\n",
       "      <th>162.0</th>\n",
       "      <td>1</td>\n",
       "      <td>6</td>\n",
       "      <td>8</td>\n",
       "    </tr>\n",
       "    <tr>\n",
       "      <th>163.0</th>\n",
       "      <td>0</td>\n",
       "      <td>2</td>\n",
       "      <td>4</td>\n",
       "    </tr>\n",
       "    <tr>\n",
       "      <th>164.0</th>\n",
       "      <td>2</td>\n",
       "      <td>2</td>\n",
       "      <td>5</td>\n",
       "    </tr>\n",
       "    <tr>\n",
       "      <th>165.0</th>\n",
       "      <td>4</td>\n",
       "      <td>3</td>\n",
       "      <td>1</td>\n",
       "    </tr>\n",
       "    <tr>\n",
       "      <th>166.0</th>\n",
       "      <td>2</td>\n",
       "      <td>3</td>\n",
       "      <td>3</td>\n",
       "    </tr>\n",
       "  </tbody>\n",
       "</table>\n",
       "</div>"
      ],
      "text/plain": [
       "class         bus  car  van\n",
       "radius_ratio               \n",
       "104.0           0    1    0\n",
       "105.0           0    0    1\n",
       "109.0           0    0    1\n",
       "110.0           0    1    2\n",
       "111.0           0    1    3\n",
       "112.0           0    0    1\n",
       "113.0           2    0    2\n",
       "114.0           0    1    3\n",
       "115.0           0    2    2\n",
       "116.0           2    3    2\n",
       "117.0           0    1    3\n",
       "118.0           1    1    0\n",
       "119.0           1    2    2\n",
       "120.0           7    1    1\n",
       "121.0           2    3    3\n",
       "122.0           3    2    0\n",
       "123.0           6    2    2\n",
       "124.0           1    0    2\n",
       "125.0           5    2    6\n",
       "126.0           3    1    4\n",
       "127.0           1    5    1\n",
       "128.0           4    2    0\n",
       "129.0           1    2    2\n",
       "130.0           5    5    2\n",
       "131.0           0    2    4\n",
       "132.0           1    3    1\n",
       "133.0           1    3    7\n",
       "134.0           0    1    2\n",
       "135.0           1    2    2\n",
       "136.0           1    5    5\n",
       "137.0           2    2    5\n",
       "138.0           0    3    4\n",
       "139.0           5    1    6\n",
       "140.0           1    5    4\n",
       "141.0           4    3    4\n",
       "142.0           0    2    4\n",
       "143.0           0    1    5\n",
       "144.0           1    3    4\n",
       "145.0           0    2    4\n",
       "146.0           1    4    1\n",
       "147.0           1    2    6\n",
       "148.0           4    1    2\n",
       "149.0           1    3    4\n",
       "150.0           2    1    9\n",
       "151.0           1    3    4\n",
       "152.0           3    2    1\n",
       "153.0           1    4    1\n",
       "154.0           5    2    2\n",
       "155.0           5    2    1\n",
       "156.0           3    3    0\n",
       "157.0           0    1    5\n",
       "158.0           3    4    2\n",
       "159.0           3    1    5\n",
       "160.0           2    2    6\n",
       "161.0           2    3    4\n",
       "162.0           1    6    8\n",
       "163.0           0    2    4\n",
       "164.0           2    2    5\n",
       "165.0           4    3    1\n",
       "166.0           2    3    3"
      ]
     },
     "execution_count": 71,
     "metadata": {
      "tags": []
     },
     "output_type": "execute_result"
    }
   ],
   "source": [
    "df_radius_ratio.head(60)"
   ]
  },
  {
   "cell_type": "markdown",
   "metadata": {
    "colab_type": "text",
    "id": "58TeClGz5A_5"
   },
   "source": [
    "In this situation the **139** value as better prediction than other values. So we restrict the outlier to this value."
   ]
  },
  {
   "cell_type": "code",
   "execution_count": 0,
   "metadata": {
    "colab": {},
    "colab_type": "code",
    "id": "iSXg4Obs0F64"
   },
   "outputs": [],
   "source": [
    "df['radius_ratio'] = np.where((df['radius_ratio']>180) & (df['class']==\"van\"),166,df['radius_ratio'])"
   ]
  },
  {
   "cell_type": "code",
   "execution_count": 73,
   "metadata": {
    "colab": {
     "base_uri": "https://localhost:8080/",
     "height": 296
    },
    "colab_type": "code",
    "executionInfo": {
     "elapsed": 5649,
     "status": "ok",
     "timestamp": 1574444351856,
     "user": {
      "displayName": "Vasant Rajadhyax",
      "photoUrl": "https://lh3.googleusercontent.com/a-/AAuE7mAFi7If5nThqBjjwpVBylU6mjSe55mxFjoYmyTJ=s64",
      "userId": "04443070192210893711"
     },
     "user_tz": -330
    },
    "id": "iOsJ51FL5yQL",
    "outputId": "e5cad277-e25d-4210-9be8-0b20cf79d7fc"
   },
   "outputs": [
    {
     "data": {
      "text/plain": [
       "<matplotlib.axes._subplots.AxesSubplot at 0x7fa9239d4f28>"
      ]
     },
     "execution_count": 73,
     "metadata": {
      "tags": []
     },
     "output_type": "execute_result"
    },
    {
     "data": {
      "image/png": "[encoded data removed]",
      "text/plain": [
       "<Figure size 432x288 with 1 Axes>"
      ]
     },
     "metadata": {
      "tags": []
     },
     "output_type": "display_data"
    }
   ],
   "source": [
    "sns.boxplot(x=\"class\", y=\"pr.axis_aspect_ratio\", data=df)"
   ]
  },
  {
   "cell_type": "code",
   "execution_count": 0,
   "metadata": {
    "colab": {},
    "colab_type": "code",
    "id": "WdLeCbwE5x-p"
   },
   "outputs": [],
   "source": [
    "df_pr_axis_aspect_ratio = pd.crosstab(df['pr.axis_aspect_ratio'],df['class'])"
   ]
  },
  {
   "cell_type": "code",
   "execution_count": 75,
   "metadata": {
    "colab": {
     "base_uri": "https://localhost:8080/",
     "height": 1000
    },
    "colab_type": "code",
    "executionInfo": {
     "elapsed": 5634,
     "status": "ok",
     "timestamp": 1574444351857,
     "user": {
      "displayName": "Vasant Rajadhyax",
      "photoUrl": "https://lh3.googleusercontent.com/a-/AAuE7mAFi7If5nThqBjjwpVBylU6mjSe55mxFjoYmyTJ=s64",
      "userId": "04443070192210893711"
     },
     "user_tz": -330
    },
    "id": "vzLYzMtME4QP",
    "outputId": "0ccf065c-728a-43e8-f371-6e70f56cd23e"
   },
   "outputs": [
    {
     "data": {
      "text/html": [
       "<div>\n",
       "<style scoped>\n",
       "    .dataframe tbody tr th:only-of-type {\n",
       "        vertical-align: middle;\n",
       "    }\n",
       "\n",
       "    .dataframe tbody tr th {\n",
       "        vertical-align: top;\n",
       "    }\n",
       "\n",
       "    .dataframe thead th {\n",
       "        text-align: right;\n",
       "    }\n",
       "</style>\n",
       "<table border=\"1\" class=\"dataframe\">\n",
       "  <thead>\n",
       "    <tr style=\"text-align: right;\">\n",
       "      <th>class</th>\n",
       "      <th>bus</th>\n",
       "      <th>car</th>\n",
       "      <th>van</th>\n",
       "    </tr>\n",
       "    <tr>\n",
       "      <th>pr.axis_aspect_ratio</th>\n",
       "      <th></th>\n",
       "      <th></th>\n",
       "      <th></th>\n",
       "    </tr>\n",
       "  </thead>\n",
       "  <tbody>\n",
       "    <tr>\n",
       "      <th>47.0</th>\n",
       "      <td>2</td>\n",
       "      <td>0</td>\n",
       "      <td>0</td>\n",
       "    </tr>\n",
       "    <tr>\n",
       "      <th>48.0</th>\n",
       "      <td>1</td>\n",
       "      <td>0</td>\n",
       "      <td>3</td>\n",
       "    </tr>\n",
       "    <tr>\n",
       "      <th>49.0</th>\n",
       "      <td>1</td>\n",
       "      <td>0</td>\n",
       "      <td>2</td>\n",
       "    </tr>\n",
       "    <tr>\n",
       "      <th>50.0</th>\n",
       "      <td>3</td>\n",
       "      <td>1</td>\n",
       "      <td>1</td>\n",
       "    </tr>\n",
       "    <tr>\n",
       "      <th>51.0</th>\n",
       "      <td>7</td>\n",
       "      <td>1</td>\n",
       "      <td>3</td>\n",
       "    </tr>\n",
       "    <tr>\n",
       "      <th>52.0</th>\n",
       "      <td>3</td>\n",
       "      <td>2</td>\n",
       "      <td>9</td>\n",
       "    </tr>\n",
       "    <tr>\n",
       "      <th>53.0</th>\n",
       "      <td>8</td>\n",
       "      <td>13</td>\n",
       "      <td>6</td>\n",
       "    </tr>\n",
       "    <tr>\n",
       "      <th>54.0</th>\n",
       "      <td>12</td>\n",
       "      <td>16</td>\n",
       "      <td>10</td>\n",
       "    </tr>\n",
       "    <tr>\n",
       "      <th>55.0</th>\n",
       "      <td>7</td>\n",
       "      <td>19</td>\n",
       "      <td>11</td>\n",
       "    </tr>\n",
       "    <tr>\n",
       "      <th>56.0</th>\n",
       "      <td>13</td>\n",
       "      <td>28</td>\n",
       "      <td>16</td>\n",
       "    </tr>\n",
       "    <tr>\n",
       "      <th>57.0</th>\n",
       "      <td>7</td>\n",
       "      <td>29</td>\n",
       "      <td>8</td>\n",
       "    </tr>\n",
       "    <tr>\n",
       "      <th>58.0</th>\n",
       "      <td>4</td>\n",
       "      <td>22</td>\n",
       "      <td>17</td>\n",
       "    </tr>\n",
       "    <tr>\n",
       "      <th>59.0</th>\n",
       "      <td>6</td>\n",
       "      <td>43</td>\n",
       "      <td>15</td>\n",
       "    </tr>\n",
       "    <tr>\n",
       "      <th>60.0</th>\n",
       "      <td>5</td>\n",
       "      <td>33</td>\n",
       "      <td>8</td>\n",
       "    </tr>\n",
       "    <tr>\n",
       "      <th>61.0</th>\n",
       "      <td>9</td>\n",
       "      <td>27</td>\n",
       "      <td>8</td>\n",
       "    </tr>\n",
       "    <tr>\n",
       "      <th>62.0</th>\n",
       "      <td>6</td>\n",
       "      <td>42</td>\n",
       "      <td>10</td>\n",
       "    </tr>\n",
       "    <tr>\n",
       "      <th>63.0</th>\n",
       "      <td>4</td>\n",
       "      <td>28</td>\n",
       "      <td>13</td>\n",
       "    </tr>\n",
       "    <tr>\n",
       "      <th>64.0</th>\n",
       "      <td>17</td>\n",
       "      <td>30</td>\n",
       "      <td>22</td>\n",
       "    </tr>\n",
       "    <tr>\n",
       "      <th>65.0</th>\n",
       "      <td>13</td>\n",
       "      <td>20</td>\n",
       "      <td>5</td>\n",
       "    </tr>\n",
       "    <tr>\n",
       "      <th>66.0</th>\n",
       "      <td>10</td>\n",
       "      <td>17</td>\n",
       "      <td>10</td>\n",
       "    </tr>\n",
       "    <tr>\n",
       "      <th>67.0</th>\n",
       "      <td>7</td>\n",
       "      <td>16</td>\n",
       "      <td>5</td>\n",
       "    </tr>\n",
       "    <tr>\n",
       "      <th>68.0</th>\n",
       "      <td>12</td>\n",
       "      <td>15</td>\n",
       "      <td>7</td>\n",
       "    </tr>\n",
       "    <tr>\n",
       "      <th>69.0</th>\n",
       "      <td>13</td>\n",
       "      <td>10</td>\n",
       "      <td>2</td>\n",
       "    </tr>\n",
       "    <tr>\n",
       "      <th>70.0</th>\n",
       "      <td>10</td>\n",
       "      <td>7</td>\n",
       "      <td>1</td>\n",
       "    </tr>\n",
       "    <tr>\n",
       "      <th>71.0</th>\n",
       "      <td>10</td>\n",
       "      <td>5</td>\n",
       "      <td>0</td>\n",
       "    </tr>\n",
       "    <tr>\n",
       "      <th>72.0</th>\n",
       "      <td>7</td>\n",
       "      <td>2</td>\n",
       "      <td>1</td>\n",
       "    </tr>\n",
       "    <tr>\n",
       "      <th>73.0</th>\n",
       "      <td>6</td>\n",
       "      <td>1</td>\n",
       "      <td>0</td>\n",
       "    </tr>\n",
       "    <tr>\n",
       "      <th>74.0</th>\n",
       "      <td>7</td>\n",
       "      <td>2</td>\n",
       "      <td>0</td>\n",
       "    </tr>\n",
       "    <tr>\n",
       "      <th>75.0</th>\n",
       "      <td>5</td>\n",
       "      <td>0</td>\n",
       "      <td>0</td>\n",
       "    </tr>\n",
       "    <tr>\n",
       "      <th>76.0</th>\n",
       "      <td>1</td>\n",
       "      <td>0</td>\n",
       "      <td>0</td>\n",
       "    </tr>\n",
       "    <tr>\n",
       "      <th>97.0</th>\n",
       "      <td>0</td>\n",
       "      <td>0</td>\n",
       "      <td>1</td>\n",
       "    </tr>\n",
       "    <tr>\n",
       "      <th>102.0</th>\n",
       "      <td>0</td>\n",
       "      <td>0</td>\n",
       "      <td>1</td>\n",
       "    </tr>\n",
       "    <tr>\n",
       "      <th>103.0</th>\n",
       "      <td>1</td>\n",
       "      <td>0</td>\n",
       "      <td>0</td>\n",
       "    </tr>\n",
       "    <tr>\n",
       "      <th>105.0</th>\n",
       "      <td>0</td>\n",
       "      <td>0</td>\n",
       "      <td>1</td>\n",
       "    </tr>\n",
       "    <tr>\n",
       "      <th>126.0</th>\n",
       "      <td>1</td>\n",
       "      <td>0</td>\n",
       "      <td>1</td>\n",
       "    </tr>\n",
       "    <tr>\n",
       "      <th>133.0</th>\n",
       "      <td>0</td>\n",
       "      <td>0</td>\n",
       "      <td>1</td>\n",
       "    </tr>\n",
       "    <tr>\n",
       "      <th>138.0</th>\n",
       "      <td>0</td>\n",
       "      <td>0</td>\n",
       "      <td>1</td>\n",
       "    </tr>\n",
       "  </tbody>\n",
       "</table>\n",
       "</div>"
      ],
      "text/plain": [
       "class                 bus  car  van\n",
       "pr.axis_aspect_ratio               \n",
       "47.0                    2    0    0\n",
       "48.0                    1    0    3\n",
       "49.0                    1    0    2\n",
       "50.0                    3    1    1\n",
       "51.0                    7    1    3\n",
       "52.0                    3    2    9\n",
       "53.0                    8   13    6\n",
       "54.0                   12   16   10\n",
       "55.0                    7   19   11\n",
       "56.0                   13   28   16\n",
       "57.0                    7   29    8\n",
       "58.0                    4   22   17\n",
       "59.0                    6   43   15\n",
       "60.0                    5   33    8\n",
       "61.0                    9   27    8\n",
       "62.0                    6   42   10\n",
       "63.0                    4   28   13\n",
       "64.0                   17   30   22\n",
       "65.0                   13   20    5\n",
       "66.0                   10   17   10\n",
       "67.0                    7   16    5\n",
       "68.0                   12   15    7\n",
       "69.0                   13   10    2\n",
       "70.0                   10    7    1\n",
       "71.0                   10    5    0\n",
       "72.0                    7    2    1\n",
       "73.0                    6    1    0\n",
       "74.0                    7    2    0\n",
       "75.0                    5    0    0\n",
       "76.0                    1    0    0\n",
       "97.0                    0    0    1\n",
       "102.0                   0    0    1\n",
       "103.0                   1    0    0\n",
       "105.0                   0    0    1\n",
       "126.0                   1    0    1\n",
       "133.0                   0    0    1\n",
       "138.0                   0    0    1"
      ]
     },
     "execution_count": 75,
     "metadata": {
      "tags": []
     },
     "output_type": "execute_result"
    }
   ],
   "source": [
    "df_pr_axis_aspect_ratio.head(60)"
   ]
  },
  {
   "cell_type": "code",
   "execution_count": 0,
   "metadata": {
    "colab": {},
    "colab_type": "code",
    "id": "KuzaBkBcE4Ja"
   },
   "outputs": [],
   "source": [
    "df['pr.axis_aspect_ratio'] = np.where((df['pr.axis_aspect_ratio']>69) & (df['class']==\"van\"),64,df['pr.axis_aspect_ratio'])"
   ]
  },
  {
   "cell_type": "code",
   "execution_count": 0,
   "metadata": {
    "colab": {},
    "colab_type": "code",
    "id": "wFkEvsgFhilk"
   },
   "outputs": [],
   "source": [
    "df['pr.axis_aspect_ratio'] = np.where((df['pr.axis_aspect_ratio']>75) & (df['class']==\"bus\"),64,df['pr.axis_aspect_ratio'])"
   ]
  },
  {
   "cell_type": "code",
   "execution_count": 78,
   "metadata": {
    "colab": {
     "base_uri": "https://localhost:8080/",
     "height": 296
    },
    "colab_type": "code",
    "executionInfo": {
     "elapsed": 5595,
     "status": "ok",
     "timestamp": 1574444351859,
     "user": {
      "displayName": "Vasant Rajadhyax",
      "photoUrl": "https://lh3.googleusercontent.com/a-/AAuE7mAFi7If5nThqBjjwpVBylU6mjSe55mxFjoYmyTJ=s64",
      "userId": "04443070192210893711"
     },
     "user_tz": -330
    },
    "id": "JgUEJx6zNq1_",
    "outputId": "6db1d965-8927-4fbd-ef36-f8dd268bfed0"
   },
   "outputs": [
    {
     "data": {
      "text/plain": [
       "<matplotlib.axes._subplots.AxesSubplot at 0x7fa920731e48>"
      ]
     },
     "execution_count": 78,
     "metadata": {
      "tags": []
     },
     "output_type": "execute_result"
    },
    {
     "data": {
      "image/png": "[encoded data removed]",
      "text/plain": [
       "<Figure size 432x288 with 1 Axes>"
      ]
     },
     "metadata": {
      "tags": []
     },
     "output_type": "display_data"
    }
   ],
   "source": [
    "sns.boxplot(x=\"class\", y=\"max.length_aspect_ratio\", data=df)"
   ]
  },
  {
   "cell_type": "code",
   "execution_count": 79,
   "metadata": {
    "colab": {
     "base_uri": "https://localhost:8080/",
     "height": 731
    },
    "colab_type": "code",
    "executionInfo": {
     "elapsed": 5585,
     "status": "ok",
     "timestamp": 1574444351859,
     "user": {
      "displayName": "Vasant Rajadhyax",
      "photoUrl": "https://lh3.googleusercontent.com/a-/AAuE7mAFi7If5nThqBjjwpVBylU6mjSe55mxFjoYmyTJ=s64",
      "userId": "04443070192210893711"
     },
     "user_tz": -330
    },
    "id": "ZgjXe1vGNkS1",
    "outputId": "d6ff7897-0994-4cf3-bcec-8381aaecd394"
   },
   "outputs": [
    {
     "data": {
      "text/html": [
       "<div>\n",
       "<style scoped>\n",
       "    .dataframe tbody tr th:only-of-type {\n",
       "        vertical-align: middle;\n",
       "    }\n",
       "\n",
       "    .dataframe tbody tr th {\n",
       "        vertical-align: top;\n",
       "    }\n",
       "\n",
       "    .dataframe thead th {\n",
       "        text-align: right;\n",
       "    }\n",
       "</style>\n",
       "<table border=\"1\" class=\"dataframe\">\n",
       "  <thead>\n",
       "    <tr style=\"text-align: right;\">\n",
       "      <th>class</th>\n",
       "      <th>bus</th>\n",
       "      <th>car</th>\n",
       "      <th>van</th>\n",
       "    </tr>\n",
       "    <tr>\n",
       "      <th>max.length_aspect_ratio</th>\n",
       "      <th></th>\n",
       "      <th></th>\n",
       "      <th></th>\n",
       "    </tr>\n",
       "  </thead>\n",
       "  <tbody>\n",
       "    <tr>\n",
       "      <th>2</th>\n",
       "      <td>0</td>\n",
       "      <td>0</td>\n",
       "      <td>1</td>\n",
       "    </tr>\n",
       "    <tr>\n",
       "      <th>3</th>\n",
       "      <td>0</td>\n",
       "      <td>2</td>\n",
       "      <td>2</td>\n",
       "    </tr>\n",
       "    <tr>\n",
       "      <th>4</th>\n",
       "      <td>7</td>\n",
       "      <td>9</td>\n",
       "      <td>2</td>\n",
       "    </tr>\n",
       "    <tr>\n",
       "      <th>5</th>\n",
       "      <td>26</td>\n",
       "      <td>15</td>\n",
       "      <td>10</td>\n",
       "    </tr>\n",
       "    <tr>\n",
       "      <th>6</th>\n",
       "      <td>78</td>\n",
       "      <td>35</td>\n",
       "      <td>19</td>\n",
       "    </tr>\n",
       "    <tr>\n",
       "      <th>7</th>\n",
       "      <td>80</td>\n",
       "      <td>62</td>\n",
       "      <td>26</td>\n",
       "    </tr>\n",
       "    <tr>\n",
       "      <th>8</th>\n",
       "      <td>22</td>\n",
       "      <td>58</td>\n",
       "      <td>33</td>\n",
       "    </tr>\n",
       "    <tr>\n",
       "      <th>9</th>\n",
       "      <td>0</td>\n",
       "      <td>60</td>\n",
       "      <td>34</td>\n",
       "    </tr>\n",
       "    <tr>\n",
       "      <th>10</th>\n",
       "      <td>0</td>\n",
       "      <td>80</td>\n",
       "      <td>32</td>\n",
       "    </tr>\n",
       "    <tr>\n",
       "      <th>11</th>\n",
       "      <td>0</td>\n",
       "      <td>78</td>\n",
       "      <td>30</td>\n",
       "    </tr>\n",
       "    <tr>\n",
       "      <th>12</th>\n",
       "      <td>0</td>\n",
       "      <td>27</td>\n",
       "      <td>3</td>\n",
       "    </tr>\n",
       "    <tr>\n",
       "      <th>13</th>\n",
       "      <td>0</td>\n",
       "      <td>3</td>\n",
       "      <td>0</td>\n",
       "    </tr>\n",
       "    <tr>\n",
       "      <th>19</th>\n",
       "      <td>1</td>\n",
       "      <td>0</td>\n",
       "      <td>0</td>\n",
       "    </tr>\n",
       "    <tr>\n",
       "      <th>22</th>\n",
       "      <td>2</td>\n",
       "      <td>0</td>\n",
       "      <td>0</td>\n",
       "    </tr>\n",
       "    <tr>\n",
       "      <th>25</th>\n",
       "      <td>0</td>\n",
       "      <td>0</td>\n",
       "      <td>1</td>\n",
       "    </tr>\n",
       "    <tr>\n",
       "      <th>43</th>\n",
       "      <td>0</td>\n",
       "      <td>0</td>\n",
       "      <td>1</td>\n",
       "    </tr>\n",
       "    <tr>\n",
       "      <th>46</th>\n",
       "      <td>0</td>\n",
       "      <td>0</td>\n",
       "      <td>1</td>\n",
       "    </tr>\n",
       "    <tr>\n",
       "      <th>48</th>\n",
       "      <td>0</td>\n",
       "      <td>0</td>\n",
       "      <td>1</td>\n",
       "    </tr>\n",
       "    <tr>\n",
       "      <th>49</th>\n",
       "      <td>0</td>\n",
       "      <td>0</td>\n",
       "      <td>2</td>\n",
       "    </tr>\n",
       "    <tr>\n",
       "      <th>52</th>\n",
       "      <td>2</td>\n",
       "      <td>0</td>\n",
       "      <td>0</td>\n",
       "    </tr>\n",
       "    <tr>\n",
       "      <th>55</th>\n",
       "      <td>0</td>\n",
       "      <td>0</td>\n",
       "      <td>1</td>\n",
       "    </tr>\n",
       "  </tbody>\n",
       "</table>\n",
       "</div>"
      ],
      "text/plain": [
       "class                    bus  car  van\n",
       "max.length_aspect_ratio               \n",
       "2                          0    0    1\n",
       "3                          0    2    2\n",
       "4                          7    9    2\n",
       "5                         26   15   10\n",
       "6                         78   35   19\n",
       "7                         80   62   26\n",
       "8                         22   58   33\n",
       "9                          0   60   34\n",
       "10                         0   80   32\n",
       "11                         0   78   30\n",
       "12                         0   27    3\n",
       "13                         0    3    0\n",
       "19                         1    0    0\n",
       "22                         2    0    0\n",
       "25                         0    0    1\n",
       "43                         0    0    1\n",
       "46                         0    0    1\n",
       "48                         0    0    1\n",
       "49                         0    0    2\n",
       "52                         2    0    0\n",
       "55                         0    0    1"
      ]
     },
     "execution_count": 79,
     "metadata": {
      "tags": []
     },
     "output_type": "execute_result"
    }
   ],
   "source": [
    "df_max_length_aspect_ratio = pd.crosstab(df['max.length_aspect_ratio'],df['class'])\n",
    "df_max_length_aspect_ratio.head(50)"
   ]
  },
  {
   "cell_type": "code",
   "execution_count": 0,
   "metadata": {
    "colab": {},
    "colab_type": "code",
    "id": "oWoXXlmt0F7B"
   },
   "outputs": [],
   "source": [
    "df['max.length_aspect_ratio'] = np.where((df['max.length_aspect_ratio']>8) & (df['class']==\"bus\"),6,df['max.length_aspect_ratio'])"
   ]
  },
  {
   "cell_type": "code",
   "execution_count": 0,
   "metadata": {
    "colab": {},
    "colab_type": "code",
    "id": "LJJPyoVJhil5"
   },
   "outputs": [],
   "source": [
    "df['max.length_aspect_ratio'] = np.where((df['max.length_aspect_ratio']<5) & (df['class']==\"bus\"),6,df['max.length_aspect_ratio'])"
   ]
  },
  {
   "cell_type": "code",
   "execution_count": 0,
   "metadata": {
    "colab": {},
    "colab_type": "code",
    "id": "PfIBZMU4hil9"
   },
   "outputs": [],
   "source": [
    "df['max.length_aspect_ratio'] = np.where((df['max.length_aspect_ratio']>12) & (df['class']==\"van\"),8,df['max.length_aspect_ratio'])"
   ]
  },
  {
   "cell_type": "code",
   "execution_count": 0,
   "metadata": {
    "colab": {},
    "colab_type": "code",
    "id": "qeFkTRH7himA"
   },
   "outputs": [],
   "source": [
    "df['max.length_aspect_ratio'] = np.where((df['max.length_aspect_ratio']<4) & (df['class']==\"van\"),8,df['max.length_aspect_ratio'])"
   ]
  },
  {
   "cell_type": "code",
   "execution_count": 84,
   "metadata": {
    "colab": {
     "base_uri": "https://localhost:8080/",
     "height": 296
    },
    "colab_type": "code",
    "executionInfo": {
     "elapsed": 6427,
     "status": "ok",
     "timestamp": 1574444352738,
     "user": {
      "displayName": "Vasant Rajadhyax",
      "photoUrl": "https://lh3.googleusercontent.com/a-/AAuE7mAFi7If5nThqBjjwpVBylU6mjSe55mxFjoYmyTJ=s64",
      "userId": "04443070192210893711"
     },
     "user_tz": -330
    },
    "id": "5_Zx-7WP0F7C",
    "outputId": "c1c7b1cc-2d91-47da-becf-69ccabb09b9a"
   },
   "outputs": [
    {
     "data": {
      "text/plain": [
       "<matplotlib.axes._subplots.AxesSubplot at 0x7fa923b4ef60>"
      ]
     },
     "execution_count": 84,
     "metadata": {
      "tags": []
     },
     "output_type": "execute_result"
    },
    {
     "data": {
      "image/png": "[encoded data removed]",
      "text/plain": [
       "<Figure size 432x288 with 1 Axes>"
      ]
     },
     "metadata": {
      "tags": []
     },
     "output_type": "display_data"
    }
   ],
   "source": [
    "sns.boxplot(x=\"class\", y=\"scaled_radius_of_gyration\", data=df)"
   ]
  },
  {
   "cell_type": "code",
   "execution_count": 85,
   "metadata": {
    "colab": {
     "base_uri": "https://localhost:8080/",
     "height": 1000
    },
    "colab_type": "code",
    "executionInfo": {
     "elapsed": 6418,
     "status": "ok",
     "timestamp": 1574444352740,
     "user": {
      "displayName": "Vasant Rajadhyax",
      "photoUrl": "https://lh3.googleusercontent.com/a-/AAuE7mAFi7If5nThqBjjwpVBylU6mjSe55mxFjoYmyTJ=s64",
      "userId": "04443070192210893711"
     },
     "user_tz": -330
    },
    "id": "Zc0ivQFs0F7E",
    "outputId": "3e0bda60-9dbd-448d-9506-f2319da7dc87"
   },
   "outputs": [
    {
     "data": {
      "text/html": [
       "<div>\n",
       "<style scoped>\n",
       "    .dataframe tbody tr th:only-of-type {\n",
       "        vertical-align: middle;\n",
       "    }\n",
       "\n",
       "    .dataframe tbody tr th {\n",
       "        vertical-align: top;\n",
       "    }\n",
       "\n",
       "    .dataframe thead th {\n",
       "        text-align: right;\n",
       "    }\n",
       "</style>\n",
       "<table border=\"1\" class=\"dataframe\">\n",
       "  <thead>\n",
       "    <tr style=\"text-align: right;\">\n",
       "      <th>class</th>\n",
       "      <th>bus</th>\n",
       "      <th>car</th>\n",
       "      <th>van</th>\n",
       "    </tr>\n",
       "    <tr>\n",
       "      <th>scaled_radius_of_gyration</th>\n",
       "      <th></th>\n",
       "      <th></th>\n",
       "      <th></th>\n",
       "    </tr>\n",
       "  </thead>\n",
       "  <tbody>\n",
       "    <tr>\n",
       "      <th>205.0</th>\n",
       "      <td>1</td>\n",
       "      <td>3</td>\n",
       "      <td>0</td>\n",
       "    </tr>\n",
       "    <tr>\n",
       "      <th>206.0</th>\n",
       "      <td>2</td>\n",
       "      <td>2</td>\n",
       "      <td>0</td>\n",
       "    </tr>\n",
       "    <tr>\n",
       "      <th>207.0</th>\n",
       "      <td>0</td>\n",
       "      <td>2</td>\n",
       "      <td>0</td>\n",
       "    </tr>\n",
       "    <tr>\n",
       "      <th>208.0</th>\n",
       "      <td>1</td>\n",
       "      <td>0</td>\n",
       "      <td>0</td>\n",
       "    </tr>\n",
       "    <tr>\n",
       "      <th>209.0</th>\n",
       "      <td>2</td>\n",
       "      <td>2</td>\n",
       "      <td>0</td>\n",
       "    </tr>\n",
       "    <tr>\n",
       "      <th>210.0</th>\n",
       "      <td>1</td>\n",
       "      <td>5</td>\n",
       "      <td>0</td>\n",
       "    </tr>\n",
       "    <tr>\n",
       "      <th>211.0</th>\n",
       "      <td>0</td>\n",
       "      <td>1</td>\n",
       "      <td>0</td>\n",
       "    </tr>\n",
       "    <tr>\n",
       "      <th>212.0</th>\n",
       "      <td>0</td>\n",
       "      <td>7</td>\n",
       "      <td>0</td>\n",
       "    </tr>\n",
       "    <tr>\n",
       "      <th>213.0</th>\n",
       "      <td>1</td>\n",
       "      <td>6</td>\n",
       "      <td>0</td>\n",
       "    </tr>\n",
       "    <tr>\n",
       "      <th>214.0</th>\n",
       "      <td>2</td>\n",
       "      <td>13</td>\n",
       "      <td>0</td>\n",
       "    </tr>\n",
       "    <tr>\n",
       "      <th>215.0</th>\n",
       "      <td>0</td>\n",
       "      <td>3</td>\n",
       "      <td>0</td>\n",
       "    </tr>\n",
       "    <tr>\n",
       "      <th>216.0</th>\n",
       "      <td>0</td>\n",
       "      <td>10</td>\n",
       "      <td>0</td>\n",
       "    </tr>\n",
       "    <tr>\n",
       "      <th>217.0</th>\n",
       "      <td>1</td>\n",
       "      <td>6</td>\n",
       "      <td>0</td>\n",
       "    </tr>\n",
       "    <tr>\n",
       "      <th>218.0</th>\n",
       "      <td>1</td>\n",
       "      <td>12</td>\n",
       "      <td>0</td>\n",
       "    </tr>\n",
       "    <tr>\n",
       "      <th>219.0</th>\n",
       "      <td>1</td>\n",
       "      <td>5</td>\n",
       "      <td>0</td>\n",
       "    </tr>\n",
       "    <tr>\n",
       "      <th>220.0</th>\n",
       "      <td>0</td>\n",
       "      <td>5</td>\n",
       "      <td>0</td>\n",
       "    </tr>\n",
       "    <tr>\n",
       "      <th>221.0</th>\n",
       "      <td>1</td>\n",
       "      <td>5</td>\n",
       "      <td>0</td>\n",
       "    </tr>\n",
       "    <tr>\n",
       "      <th>222.0</th>\n",
       "      <td>1</td>\n",
       "      <td>5</td>\n",
       "      <td>0</td>\n",
       "    </tr>\n",
       "    <tr>\n",
       "      <th>223.0</th>\n",
       "      <td>0</td>\n",
       "      <td>7</td>\n",
       "      <td>0</td>\n",
       "    </tr>\n",
       "    <tr>\n",
       "      <th>224.0</th>\n",
       "      <td>0</td>\n",
       "      <td>4</td>\n",
       "      <td>0</td>\n",
       "    </tr>\n",
       "    <tr>\n",
       "      <th>226.0</th>\n",
       "      <td>0</td>\n",
       "      <td>2</td>\n",
       "      <td>0</td>\n",
       "    </tr>\n",
       "    <tr>\n",
       "      <th>228.0</th>\n",
       "      <td>1</td>\n",
       "      <td>1</td>\n",
       "      <td>0</td>\n",
       "    </tr>\n",
       "    <tr>\n",
       "      <th>229.0</th>\n",
       "      <td>1</td>\n",
       "      <td>1</td>\n",
       "      <td>0</td>\n",
       "    </tr>\n",
       "    <tr>\n",
       "      <th>230.0</th>\n",
       "      <td>1</td>\n",
       "      <td>1</td>\n",
       "      <td>0</td>\n",
       "    </tr>\n",
       "    <tr>\n",
       "      <th>231.0</th>\n",
       "      <td>1</td>\n",
       "      <td>1</td>\n",
       "      <td>0</td>\n",
       "    </tr>\n",
       "    <tr>\n",
       "      <th>232.0</th>\n",
       "      <td>1</td>\n",
       "      <td>1</td>\n",
       "      <td>0</td>\n",
       "    </tr>\n",
       "    <tr>\n",
       "      <th>234.0</th>\n",
       "      <td>0</td>\n",
       "      <td>1</td>\n",
       "      <td>0</td>\n",
       "    </tr>\n",
       "    <tr>\n",
       "      <th>235.0</th>\n",
       "      <td>0</td>\n",
       "      <td>2</td>\n",
       "      <td>0</td>\n",
       "    </tr>\n",
       "    <tr>\n",
       "      <th>236.0</th>\n",
       "      <td>0</td>\n",
       "      <td>1</td>\n",
       "      <td>0</td>\n",
       "    </tr>\n",
       "    <tr>\n",
       "      <th>237.0</th>\n",
       "      <td>0</td>\n",
       "      <td>1</td>\n",
       "      <td>0</td>\n",
       "    </tr>\n",
       "    <tr>\n",
       "      <th>238.0</th>\n",
       "      <td>0</td>\n",
       "      <td>1</td>\n",
       "      <td>0</td>\n",
       "    </tr>\n",
       "    <tr>\n",
       "      <th>239.0</th>\n",
       "      <td>2</td>\n",
       "      <td>0</td>\n",
       "      <td>0</td>\n",
       "    </tr>\n",
       "    <tr>\n",
       "      <th>240.0</th>\n",
       "      <td>0</td>\n",
       "      <td>3</td>\n",
       "      <td>0</td>\n",
       "    </tr>\n",
       "    <tr>\n",
       "      <th>241.0</th>\n",
       "      <td>0</td>\n",
       "      <td>1</td>\n",
       "      <td>0</td>\n",
       "    </tr>\n",
       "    <tr>\n",
       "      <th>242.0</th>\n",
       "      <td>3</td>\n",
       "      <td>0</td>\n",
       "      <td>0</td>\n",
       "    </tr>\n",
       "    <tr>\n",
       "      <th>243.0</th>\n",
       "      <td>1</td>\n",
       "      <td>0</td>\n",
       "      <td>0</td>\n",
       "    </tr>\n",
       "    <tr>\n",
       "      <th>244.0</th>\n",
       "      <td>0</td>\n",
       "      <td>1</td>\n",
       "      <td>0</td>\n",
       "    </tr>\n",
       "    <tr>\n",
       "      <th>245.0</th>\n",
       "      <td>1</td>\n",
       "      <td>1</td>\n",
       "      <td>0</td>\n",
       "    </tr>\n",
       "    <tr>\n",
       "      <th>246.0</th>\n",
       "      <td>0</td>\n",
       "      <td>2</td>\n",
       "      <td>0</td>\n",
       "    </tr>\n",
       "    <tr>\n",
       "      <th>247.0</th>\n",
       "      <td>1</td>\n",
       "      <td>0</td>\n",
       "      <td>0</td>\n",
       "    </tr>\n",
       "    <tr>\n",
       "      <th>249.0</th>\n",
       "      <td>0</td>\n",
       "      <td>1</td>\n",
       "      <td>0</td>\n",
       "    </tr>\n",
       "    <tr>\n",
       "      <th>250.0</th>\n",
       "      <td>1</td>\n",
       "      <td>1</td>\n",
       "      <td>0</td>\n",
       "    </tr>\n",
       "    <tr>\n",
       "      <th>253.0</th>\n",
       "      <td>1</td>\n",
       "      <td>0</td>\n",
       "      <td>0</td>\n",
       "    </tr>\n",
       "    <tr>\n",
       "      <th>255.0</th>\n",
       "      <td>1</td>\n",
       "      <td>0</td>\n",
       "      <td>0</td>\n",
       "    </tr>\n",
       "    <tr>\n",
       "      <th>257.0</th>\n",
       "      <td>1</td>\n",
       "      <td>0</td>\n",
       "      <td>0</td>\n",
       "    </tr>\n",
       "    <tr>\n",
       "      <th>260.0</th>\n",
       "      <td>1</td>\n",
       "      <td>0</td>\n",
       "      <td>0</td>\n",
       "    </tr>\n",
       "    <tr>\n",
       "      <th>261.0</th>\n",
       "      <td>3</td>\n",
       "      <td>0</td>\n",
       "      <td>0</td>\n",
       "    </tr>\n",
       "    <tr>\n",
       "      <th>262.0</th>\n",
       "      <td>1</td>\n",
       "      <td>0</td>\n",
       "      <td>0</td>\n",
       "    </tr>\n",
       "    <tr>\n",
       "      <th>264.0</th>\n",
       "      <td>1</td>\n",
       "      <td>0</td>\n",
       "      <td>0</td>\n",
       "    </tr>\n",
       "    <tr>\n",
       "      <th>268.0</th>\n",
       "      <td>1</td>\n",
       "      <td>0</td>\n",
       "      <td>0</td>\n",
       "    </tr>\n",
       "  </tbody>\n",
       "</table>\n",
       "</div>"
      ],
      "text/plain": [
       "class                      bus  car  van\n",
       "scaled_radius_of_gyration               \n",
       "205.0                        1    3    0\n",
       "206.0                        2    2    0\n",
       "207.0                        0    2    0\n",
       "208.0                        1    0    0\n",
       "209.0                        2    2    0\n",
       "210.0                        1    5    0\n",
       "211.0                        0    1    0\n",
       "212.0                        0    7    0\n",
       "213.0                        1    6    0\n",
       "214.0                        2   13    0\n",
       "215.0                        0    3    0\n",
       "216.0                        0   10    0\n",
       "217.0                        1    6    0\n",
       "218.0                        1   12    0\n",
       "219.0                        1    5    0\n",
       "220.0                        0    5    0\n",
       "221.0                        1    5    0\n",
       "222.0                        1    5    0\n",
       "223.0                        0    7    0\n",
       "224.0                        0    4    0\n",
       "226.0                        0    2    0\n",
       "228.0                        1    1    0\n",
       "229.0                        1    1    0\n",
       "230.0                        1    1    0\n",
       "231.0                        1    1    0\n",
       "232.0                        1    1    0\n",
       "234.0                        0    1    0\n",
       "235.0                        0    2    0\n",
       "236.0                        0    1    0\n",
       "237.0                        0    1    0\n",
       "238.0                        0    1    0\n",
       "239.0                        2    0    0\n",
       "240.0                        0    3    0\n",
       "241.0                        0    1    0\n",
       "242.0                        3    0    0\n",
       "243.0                        1    0    0\n",
       "244.0                        0    1    0\n",
       "245.0                        1    1    0\n",
       "246.0                        0    2    0\n",
       "247.0                        1    0    0\n",
       "249.0                        0    1    0\n",
       "250.0                        1    1    0\n",
       "253.0                        1    0    0\n",
       "255.0                        1    0    0\n",
       "257.0                        1    0    0\n",
       "260.0                        1    0    0\n",
       "261.0                        3    0    0\n",
       "262.0                        1    0    0\n",
       "264.0                        1    0    0\n",
       "268.0                        1    0    0"
      ]
     },
     "execution_count": 85,
     "metadata": {
      "tags": []
     },
     "output_type": "execute_result"
    }
   ],
   "source": [
    "df_scaled_radius_of_gyration = pd.crosstab(df['scaled_radius_of_gyration'],df['class'])\n",
    "df_scaled_radius_of_gyration.tail(50)"
   ]
  },
  {
   "cell_type": "code",
   "execution_count": 0,
   "metadata": {
    "colab": {},
    "colab_type": "code",
    "id": "OAkBl6hC0F7H"
   },
   "outputs": [],
   "source": [
    "df['scaled_radius_of_gyration'] = np.where((df['scaled_radius_of_gyration']>222) & (df['class']==\"bus\"),157,df['scaled_radius_of_gyration'])"
   ]
  },
  {
   "cell_type": "code",
   "execution_count": 0,
   "metadata": {
    "colab": {},
    "colab_type": "code",
    "id": "tJeuOsLNhimN"
   },
   "outputs": [],
   "source": [
    "df['scaled_radius_of_gyration'] = np.where((df['scaled_radius_of_gyration']<117) & (df['class']==\"bus\"),157,df['scaled_radius_of_gyration'])"
   ]
  },
  {
   "cell_type": "code",
   "execution_count": 88,
   "metadata": {
    "colab": {
     "base_uri": "https://localhost:8080/",
     "height": 296
    },
    "colab_type": "code",
    "executionInfo": {
     "elapsed": 6400,
     "status": "ok",
     "timestamp": 1574444352744,
     "user": {
      "displayName": "Vasant Rajadhyax",
      "photoUrl": "https://lh3.googleusercontent.com/a-/AAuE7mAFi7If5nThqBjjwpVBylU6mjSe55mxFjoYmyTJ=s64",
      "userId": "04443070192210893711"
     },
     "user_tz": -330
    },
    "id": "KqpLh-DK0F7J",
    "outputId": "9f8ccf82-2f4c-4dd7-dad1-9b1cfd6ab913"
   },
   "outputs": [
    {
     "data": {
      "text/plain": [
       "<matplotlib.axes._subplots.AxesSubplot at 0x7fa92d51e940>"
      ]
     },
     "execution_count": 88,
     "metadata": {
      "tags": []
     },
     "output_type": "execute_result"
    },
    {
     "data": {
      "image/png": "[encoded data removed]",
      "text/plain": [
       "<Figure size 432x288 with 1 Axes>"
      ]
     },
     "metadata": {
      "tags": []
     },
     "output_type": "display_data"
    }
   ],
   "source": [
    "sns.boxplot(x=\"class\", y=\"skewness_about\", data=df)"
   ]
  },
  {
   "cell_type": "code",
   "execution_count": 89,
   "metadata": {
    "colab": {
     "base_uri": "https://localhost:8080/",
     "height": 793
    },
    "colab_type": "code",
    "executionInfo": {
     "elapsed": 6390,
     "status": "ok",
     "timestamp": 1574444352745,
     "user": {
      "displayName": "Vasant Rajadhyax",
      "photoUrl": "https://lh3.googleusercontent.com/a-/AAuE7mAFi7If5nThqBjjwpVBylU6mjSe55mxFjoYmyTJ=s64",
      "userId": "04443070192210893711"
     },
     "user_tz": -330
    },
    "id": "SJMkD9FaUUm7",
    "outputId": "21cb6157-e6f4-4c93-a3db-f1baa3adc97c"
   },
   "outputs": [
    {
     "data": {
      "text/html": [
       "<div>\n",
       "<style scoped>\n",
       "    .dataframe tbody tr th:only-of-type {\n",
       "        vertical-align: middle;\n",
       "    }\n",
       "\n",
       "    .dataframe tbody tr th {\n",
       "        vertical-align: top;\n",
       "    }\n",
       "\n",
       "    .dataframe thead th {\n",
       "        text-align: right;\n",
       "    }\n",
       "</style>\n",
       "<table border=\"1\" class=\"dataframe\">\n",
       "  <thead>\n",
       "    <tr style=\"text-align: right;\">\n",
       "      <th>class</th>\n",
       "      <th>bus</th>\n",
       "      <th>car</th>\n",
       "      <th>van</th>\n",
       "    </tr>\n",
       "    <tr>\n",
       "      <th>skewness_about</th>\n",
       "      <th></th>\n",
       "      <th></th>\n",
       "      <th></th>\n",
       "    </tr>\n",
       "  </thead>\n",
       "  <tbody>\n",
       "    <tr>\n",
       "      <th>0.0</th>\n",
       "      <td>19</td>\n",
       "      <td>44</td>\n",
       "      <td>14</td>\n",
       "    </tr>\n",
       "    <tr>\n",
       "      <th>1.0</th>\n",
       "      <td>22</td>\n",
       "      <td>38</td>\n",
       "      <td>21</td>\n",
       "    </tr>\n",
       "    <tr>\n",
       "      <th>2.0</th>\n",
       "      <td>19</td>\n",
       "      <td>29</td>\n",
       "      <td>15</td>\n",
       "    </tr>\n",
       "    <tr>\n",
       "      <th>3.0</th>\n",
       "      <td>17</td>\n",
       "      <td>26</td>\n",
       "      <td>13</td>\n",
       "    </tr>\n",
       "    <tr>\n",
       "      <th>4.0</th>\n",
       "      <td>28</td>\n",
       "      <td>25</td>\n",
       "      <td>17</td>\n",
       "    </tr>\n",
       "    <tr>\n",
       "      <th>5.0</th>\n",
       "      <td>22</td>\n",
       "      <td>35</td>\n",
       "      <td>14</td>\n",
       "    </tr>\n",
       "    <tr>\n",
       "      <th>6.0</th>\n",
       "      <td>29</td>\n",
       "      <td>29</td>\n",
       "      <td>13</td>\n",
       "    </tr>\n",
       "    <tr>\n",
       "      <th>7.0</th>\n",
       "      <td>18</td>\n",
       "      <td>22</td>\n",
       "      <td>20</td>\n",
       "    </tr>\n",
       "    <tr>\n",
       "      <th>8.0</th>\n",
       "      <td>15</td>\n",
       "      <td>19</td>\n",
       "      <td>13</td>\n",
       "    </tr>\n",
       "    <tr>\n",
       "      <th>9.0</th>\n",
       "      <td>14</td>\n",
       "      <td>22</td>\n",
       "      <td>10</td>\n",
       "    </tr>\n",
       "    <tr>\n",
       "      <th>10.0</th>\n",
       "      <td>6</td>\n",
       "      <td>21</td>\n",
       "      <td>9</td>\n",
       "    </tr>\n",
       "    <tr>\n",
       "      <th>11.0</th>\n",
       "      <td>4</td>\n",
       "      <td>20</td>\n",
       "      <td>7</td>\n",
       "    </tr>\n",
       "    <tr>\n",
       "      <th>12.0</th>\n",
       "      <td>2</td>\n",
       "      <td>18</td>\n",
       "      <td>10</td>\n",
       "    </tr>\n",
       "    <tr>\n",
       "      <th>13.0</th>\n",
       "      <td>2</td>\n",
       "      <td>18</td>\n",
       "      <td>6</td>\n",
       "    </tr>\n",
       "    <tr>\n",
       "      <th>14.0</th>\n",
       "      <td>0</td>\n",
       "      <td>14</td>\n",
       "      <td>4</td>\n",
       "    </tr>\n",
       "    <tr>\n",
       "      <th>15.0</th>\n",
       "      <td>0</td>\n",
       "      <td>15</td>\n",
       "      <td>4</td>\n",
       "    </tr>\n",
       "    <tr>\n",
       "      <th>16.0</th>\n",
       "      <td>0</td>\n",
       "      <td>10</td>\n",
       "      <td>1</td>\n",
       "    </tr>\n",
       "    <tr>\n",
       "      <th>17.0</th>\n",
       "      <td>1</td>\n",
       "      <td>5</td>\n",
       "      <td>5</td>\n",
       "    </tr>\n",
       "    <tr>\n",
       "      <th>18.0</th>\n",
       "      <td>0</td>\n",
       "      <td>4</td>\n",
       "      <td>2</td>\n",
       "    </tr>\n",
       "    <tr>\n",
       "      <th>19.0</th>\n",
       "      <td>0</td>\n",
       "      <td>3</td>\n",
       "      <td>1</td>\n",
       "    </tr>\n",
       "    <tr>\n",
       "      <th>20.0</th>\n",
       "      <td>0</td>\n",
       "      <td>3</td>\n",
       "      <td>0</td>\n",
       "    </tr>\n",
       "    <tr>\n",
       "      <th>21.0</th>\n",
       "      <td>0</td>\n",
       "      <td>5</td>\n",
       "      <td>0</td>\n",
       "    </tr>\n",
       "    <tr>\n",
       "      <th>22.0</th>\n",
       "      <td>0</td>\n",
       "      <td>4</td>\n",
       "      <td>0</td>\n",
       "    </tr>\n",
       "  </tbody>\n",
       "</table>\n",
       "</div>"
      ],
      "text/plain": [
       "class           bus  car  van\n",
       "skewness_about               \n",
       "0.0              19   44   14\n",
       "1.0              22   38   21\n",
       "2.0              19   29   15\n",
       "3.0              17   26   13\n",
       "4.0              28   25   17\n",
       "5.0              22   35   14\n",
       "6.0              29   29   13\n",
       "7.0              18   22   20\n",
       "8.0              15   19   13\n",
       "9.0              14   22   10\n",
       "10.0              6   21    9\n",
       "11.0              4   20    7\n",
       "12.0              2   18   10\n",
       "13.0              2   18    6\n",
       "14.0              0   14    4\n",
       "15.0              0   15    4\n",
       "16.0              0   10    1\n",
       "17.0              1    5    5\n",
       "18.0              0    4    2\n",
       "19.0              0    3    1\n",
       "20.0              0    3    0\n",
       "21.0              0    5    0\n",
       "22.0              0    4    0"
      ]
     },
     "execution_count": 89,
     "metadata": {
      "tags": []
     },
     "output_type": "execute_result"
    }
   ],
   "source": [
    "df_skewness_about = pd.crosstab(df['skewness_about'],df['class'])\n",
    "df_skewness_about.head(50)"
   ]
  },
  {
   "cell_type": "code",
   "execution_count": 0,
   "metadata": {
    "colab": {},
    "colab_type": "code",
    "id": "KQ4KOFS8UUkP"
   },
   "outputs": [],
   "source": [
    "df['skewness_about'] = np.where((df['skewness_about']>17) & (df[\"class\"]==\"van\"),5,df['skewness_about'])"
   ]
  },
  {
   "cell_type": "code",
   "execution_count": 0,
   "metadata": {
    "colab": {},
    "colab_type": "code",
    "id": "BOHCB_qWhimd"
   },
   "outputs": [],
   "source": [
    "df['skewness_about'] = np.where((df['skewness_about']>13) & (df[\"class\"]==\"bus\"),6,df['skewness_about'])"
   ]
  },
  {
   "cell_type": "code",
   "execution_count": 92,
   "metadata": {
    "colab": {
     "base_uri": "https://localhost:8080/",
     "height": 296
    },
    "colab_type": "code",
    "executionInfo": {
     "elapsed": 6373,
     "status": "ok",
     "timestamp": 1574444352749,
     "user": {
      "displayName": "Vasant Rajadhyax",
      "photoUrl": "https://lh3.googleusercontent.com/a-/AAuE7mAFi7If5nThqBjjwpVBylU6mjSe55mxFjoYmyTJ=s64",
      "userId": "04443070192210893711"
     },
     "user_tz": -330
    },
    "id": "wCSsECGbE4Bg",
    "outputId": "3af55b36-fdfd-4fdd-967d-273a0eb46f2d"
   },
   "outputs": [
    {
     "data": {
      "text/plain": [
       "<matplotlib.axes._subplots.AxesSubplot at 0x7fa923c15710>"
      ]
     },
     "execution_count": 92,
     "metadata": {
      "tags": []
     },
     "output_type": "execute_result"
    },
    {
     "data": {
      "image/png": "[encoded data removed]",
      "text/plain": [
       "<Figure size 432x288 with 1 Axes>"
      ]
     },
     "metadata": {
      "tags": []
     },
     "output_type": "display_data"
    }
   ],
   "source": [
    "sns.boxplot(x=\"class\", y=\"skewness_about.1\", data=df)"
   ]
  },
  {
   "cell_type": "code",
   "execution_count": 93,
   "metadata": {
    "colab": {
     "base_uri": "https://localhost:8080/",
     "height": 1000
    },
    "colab_type": "code",
    "executionInfo": {
     "elapsed": 6366,
     "status": "ok",
     "timestamp": 1574444352751,
     "user": {
      "displayName": "Vasant Rajadhyax",
      "photoUrl": "https://lh3.googleusercontent.com/a-/AAuE7mAFi7If5nThqBjjwpVBylU6mjSe55mxFjoYmyTJ=s64",
      "userId": "04443070192210893711"
     },
     "user_tz": -330
    },
    "id": "Sa06jwWNhimi",
    "outputId": "cb01b955-2871-4b6d-fe8f-323507388fe4"
   },
   "outputs": [
    {
     "data": {
      "text/html": [
       "<div>\n",
       "<style scoped>\n",
       "    .dataframe tbody tr th:only-of-type {\n",
       "        vertical-align: middle;\n",
       "    }\n",
       "\n",
       "    .dataframe tbody tr th {\n",
       "        vertical-align: top;\n",
       "    }\n",
       "\n",
       "    .dataframe thead th {\n",
       "        text-align: right;\n",
       "    }\n",
       "</style>\n",
       "<table border=\"1\" class=\"dataframe\">\n",
       "  <thead>\n",
       "    <tr style=\"text-align: right;\">\n",
       "      <th>class</th>\n",
       "      <th>bus</th>\n",
       "      <th>car</th>\n",
       "      <th>van</th>\n",
       "    </tr>\n",
       "    <tr>\n",
       "      <th>skewness_about.1</th>\n",
       "      <th></th>\n",
       "      <th></th>\n",
       "      <th></th>\n",
       "    </tr>\n",
       "  </thead>\n",
       "  <tbody>\n",
       "    <tr>\n",
       "      <th>0.0</th>\n",
       "      <td>9</td>\n",
       "      <td>11</td>\n",
       "      <td>10</td>\n",
       "    </tr>\n",
       "    <tr>\n",
       "      <th>1.0</th>\n",
       "      <td>15</td>\n",
       "      <td>16</td>\n",
       "      <td>7</td>\n",
       "    </tr>\n",
       "    <tr>\n",
       "      <th>2.0</th>\n",
       "      <td>9</td>\n",
       "      <td>19</td>\n",
       "      <td>9</td>\n",
       "    </tr>\n",
       "    <tr>\n",
       "      <th>3.0</th>\n",
       "      <td>8</td>\n",
       "      <td>14</td>\n",
       "      <td>10</td>\n",
       "    </tr>\n",
       "    <tr>\n",
       "      <th>4.0</th>\n",
       "      <td>13</td>\n",
       "      <td>18</td>\n",
       "      <td>10</td>\n",
       "    </tr>\n",
       "    <tr>\n",
       "      <th>5.0</th>\n",
       "      <td>7</td>\n",
       "      <td>20</td>\n",
       "      <td>9</td>\n",
       "    </tr>\n",
       "    <tr>\n",
       "      <th>6.0</th>\n",
       "      <td>11</td>\n",
       "      <td>14</td>\n",
       "      <td>12</td>\n",
       "    </tr>\n",
       "    <tr>\n",
       "      <th>7.0</th>\n",
       "      <td>12</td>\n",
       "      <td>16</td>\n",
       "      <td>16</td>\n",
       "    </tr>\n",
       "    <tr>\n",
       "      <th>8.0</th>\n",
       "      <td>14</td>\n",
       "      <td>8</td>\n",
       "      <td>10</td>\n",
       "    </tr>\n",
       "    <tr>\n",
       "      <th>9.0</th>\n",
       "      <td>8</td>\n",
       "      <td>17</td>\n",
       "      <td>15</td>\n",
       "    </tr>\n",
       "    <tr>\n",
       "      <th>10.0</th>\n",
       "      <td>8</td>\n",
       "      <td>12</td>\n",
       "      <td>9</td>\n",
       "    </tr>\n",
       "    <tr>\n",
       "      <th>11.0</th>\n",
       "      <td>19</td>\n",
       "      <td>19</td>\n",
       "      <td>9</td>\n",
       "    </tr>\n",
       "    <tr>\n",
       "      <th>12.0</th>\n",
       "      <td>11</td>\n",
       "      <td>9</td>\n",
       "      <td>8</td>\n",
       "    </tr>\n",
       "    <tr>\n",
       "      <th>13.0</th>\n",
       "      <td>8</td>\n",
       "      <td>12</td>\n",
       "      <td>10</td>\n",
       "    </tr>\n",
       "    <tr>\n",
       "      <th>14.0</th>\n",
       "      <td>16</td>\n",
       "      <td>12</td>\n",
       "      <td>10</td>\n",
       "    </tr>\n",
       "    <tr>\n",
       "      <th>15.0</th>\n",
       "      <td>4</td>\n",
       "      <td>12</td>\n",
       "      <td>7</td>\n",
       "    </tr>\n",
       "    <tr>\n",
       "      <th>16.0</th>\n",
       "      <td>7</td>\n",
       "      <td>15</td>\n",
       "      <td>9</td>\n",
       "    </tr>\n",
       "    <tr>\n",
       "      <th>17.0</th>\n",
       "      <td>8</td>\n",
       "      <td>4</td>\n",
       "      <td>8</td>\n",
       "    </tr>\n",
       "    <tr>\n",
       "      <th>18.0</th>\n",
       "      <td>2</td>\n",
       "      <td>12</td>\n",
       "      <td>3</td>\n",
       "    </tr>\n",
       "    <tr>\n",
       "      <th>19.0</th>\n",
       "      <td>6</td>\n",
       "      <td>11</td>\n",
       "      <td>3</td>\n",
       "    </tr>\n",
       "    <tr>\n",
       "      <th>20.0</th>\n",
       "      <td>4</td>\n",
       "      <td>15</td>\n",
       "      <td>3</td>\n",
       "    </tr>\n",
       "    <tr>\n",
       "      <th>21.0</th>\n",
       "      <td>3</td>\n",
       "      <td>22</td>\n",
       "      <td>4</td>\n",
       "    </tr>\n",
       "    <tr>\n",
       "      <th>22.0</th>\n",
       "      <td>5</td>\n",
       "      <td>14</td>\n",
       "      <td>1</td>\n",
       "    </tr>\n",
       "    <tr>\n",
       "      <th>23.0</th>\n",
       "      <td>3</td>\n",
       "      <td>12</td>\n",
       "      <td>4</td>\n",
       "    </tr>\n",
       "    <tr>\n",
       "      <th>24.0</th>\n",
       "      <td>0</td>\n",
       "      <td>13</td>\n",
       "      <td>0</td>\n",
       "    </tr>\n",
       "    <tr>\n",
       "      <th>25.0</th>\n",
       "      <td>1</td>\n",
       "      <td>10</td>\n",
       "      <td>0</td>\n",
       "    </tr>\n",
       "    <tr>\n",
       "      <th>26.0</th>\n",
       "      <td>3</td>\n",
       "      <td>5</td>\n",
       "      <td>1</td>\n",
       "    </tr>\n",
       "    <tr>\n",
       "      <th>27.0</th>\n",
       "      <td>1</td>\n",
       "      <td>5</td>\n",
       "      <td>1</td>\n",
       "    </tr>\n",
       "    <tr>\n",
       "      <th>28.0</th>\n",
       "      <td>1</td>\n",
       "      <td>12</td>\n",
       "      <td>0</td>\n",
       "    </tr>\n",
       "    <tr>\n",
       "      <th>29.0</th>\n",
       "      <td>0</td>\n",
       "      <td>11</td>\n",
       "      <td>1</td>\n",
       "    </tr>\n",
       "    <tr>\n",
       "      <th>30.0</th>\n",
       "      <td>1</td>\n",
       "      <td>7</td>\n",
       "      <td>0</td>\n",
       "    </tr>\n",
       "    <tr>\n",
       "      <th>31.0</th>\n",
       "      <td>1</td>\n",
       "      <td>4</td>\n",
       "      <td>0</td>\n",
       "    </tr>\n",
       "    <tr>\n",
       "      <th>32.0</th>\n",
       "      <td>0</td>\n",
       "      <td>6</td>\n",
       "      <td>0</td>\n",
       "    </tr>\n",
       "    <tr>\n",
       "      <th>33.0</th>\n",
       "      <td>0</td>\n",
       "      <td>5</td>\n",
       "      <td>0</td>\n",
       "    </tr>\n",
       "    <tr>\n",
       "      <th>34.0</th>\n",
       "      <td>0</td>\n",
       "      <td>1</td>\n",
       "      <td>0</td>\n",
       "    </tr>\n",
       "    <tr>\n",
       "      <th>35.0</th>\n",
       "      <td>0</td>\n",
       "      <td>4</td>\n",
       "      <td>0</td>\n",
       "    </tr>\n",
       "    <tr>\n",
       "      <th>36.0</th>\n",
       "      <td>0</td>\n",
       "      <td>3</td>\n",
       "      <td>0</td>\n",
       "    </tr>\n",
       "    <tr>\n",
       "      <th>38.0</th>\n",
       "      <td>0</td>\n",
       "      <td>6</td>\n",
       "      <td>0</td>\n",
       "    </tr>\n",
       "    <tr>\n",
       "      <th>39.0</th>\n",
       "      <td>0</td>\n",
       "      <td>1</td>\n",
       "      <td>0</td>\n",
       "    </tr>\n",
       "    <tr>\n",
       "      <th>40.0</th>\n",
       "      <td>0</td>\n",
       "      <td>1</td>\n",
       "      <td>0</td>\n",
       "    </tr>\n",
       "    <tr>\n",
       "      <th>41.0</th>\n",
       "      <td>0</td>\n",
       "      <td>1</td>\n",
       "      <td>0</td>\n",
       "    </tr>\n",
       "  </tbody>\n",
       "</table>\n",
       "</div>"
      ],
      "text/plain": [
       "class             bus  car  van\n",
       "skewness_about.1               \n",
       "0.0                 9   11   10\n",
       "1.0                15   16    7\n",
       "2.0                 9   19    9\n",
       "3.0                 8   14   10\n",
       "4.0                13   18   10\n",
       "5.0                 7   20    9\n",
       "6.0                11   14   12\n",
       "7.0                12   16   16\n",
       "8.0                14    8   10\n",
       "9.0                 8   17   15\n",
       "10.0                8   12    9\n",
       "11.0               19   19    9\n",
       "12.0               11    9    8\n",
       "13.0                8   12   10\n",
       "14.0               16   12   10\n",
       "15.0                4   12    7\n",
       "16.0                7   15    9\n",
       "17.0                8    4    8\n",
       "18.0                2   12    3\n",
       "19.0                6   11    3\n",
       "20.0                4   15    3\n",
       "21.0                3   22    4\n",
       "22.0                5   14    1\n",
       "23.0                3   12    4\n",
       "24.0                0   13    0\n",
       "25.0                1   10    0\n",
       "26.0                3    5    1\n",
       "27.0                1    5    1\n",
       "28.0                1   12    0\n",
       "29.0                0   11    1\n",
       "30.0                1    7    0\n",
       "31.0                1    4    0\n",
       "32.0                0    6    0\n",
       "33.0                0    5    0\n",
       "34.0                0    1    0\n",
       "35.0                0    4    0\n",
       "36.0                0    3    0\n",
       "38.0                0    6    0\n",
       "39.0                0    1    0\n",
       "40.0                0    1    0\n",
       "41.0                0    1    0"
      ]
     },
     "execution_count": 93,
     "metadata": {
      "tags": []
     },
     "output_type": "execute_result"
    }
   ],
   "source": [
    "df_skewness_about = pd.crosstab(df['skewness_about.1'],df['class'])\n",
    "df_skewness_about.head(60)"
   ]
  },
  {
   "cell_type": "code",
   "execution_count": 0,
   "metadata": {
    "colab": {},
    "colab_type": "code",
    "id": "gq8lK62Dhimk"
   },
   "outputs": [],
   "source": [
    "df['skewness_about.1'] = np.where((df['skewness_about.1']>26) & (df[\"class\"]==\"bus\"),14,df['skewness_about.1'])"
   ]
  },
  {
   "cell_type": "code",
   "execution_count": 0,
   "metadata": {
    "colab": {},
    "colab_type": "code",
    "id": "TPzFmC9whimm"
   },
   "outputs": [],
   "source": [
    "df['skewness_about.1'] = np.where((df['skewness_about.1']>27) & (df[\"class\"]==\"van\"),14,df['skewness_about.1'])"
   ]
  },
  {
   "cell_type": "code",
   "execution_count": 96,
   "metadata": {
    "colab": {
     "base_uri": "https://localhost:8080/",
     "height": 1000
    },
    "colab_type": "code",
    "executionInfo": {
     "elapsed": 7845,
     "status": "ok",
     "timestamp": 1574444354254,
     "user": {
      "displayName": "Vasant Rajadhyax",
      "photoUrl": "https://lh3.googleusercontent.com/a-/AAuE7mAFi7If5nThqBjjwpVBylU6mjSe55mxFjoYmyTJ=s64",
      "userId": "04443070192210893711"
     },
     "user_tz": -330
    },
    "id": "uQqWGST8himo",
    "outputId": "4424d770-c27c-421d-a70b-3289b4519c86"
   },
   "outputs": [
    {
     "data": {
      "text/plain": [
       "<matplotlib.axes._subplots.AxesSubplot at 0x7fa91cca5198>"
      ]
     },
     "execution_count": 96,
     "metadata": {
      "tags": []
     },
     "output_type": "execute_result"
    },
    {
     "data": {
      "image/png": "[encoded data removed]",
      "text/plain": [
       "<Figure size 3240x1800 with 1 Axes>"
      ]
     },
     "metadata": {
      "tags": []
     },
     "output_type": "display_data"
    }
   ],
   "source": [
    "df.boxplot(figsize=(45,25))"
   ]
  },
  {
   "cell_type": "markdown",
   "metadata": {
    "colab_type": "text",
    "id": "5MEa5FChFkvP"
   },
   "source": [
    "## Finding the relationship between different attributes"
   ]
  },
  {
   "cell_type": "code",
   "execution_count": 97,
   "metadata": {
    "colab": {
     "base_uri": "https://localhost:8080/",
     "height": 1000,
     "output_embedded_package_id": "1cHlI6-C9nIoxHK3qh6iBUg42vbPZK2eW"
    },
    "colab_type": "code",
    "executionInfo": {
     "elapsed": 135105,
     "status": "ok",
     "timestamp": 1574444481526,
     "user": {
      "displayName": "Vasant Rajadhyax",
      "photoUrl": "https://lh3.googleusercontent.com/a-/AAuE7mAFi7If5nThqBjjwpVBylU6mjSe55mxFjoYmyTJ=s64",
      "userId": "04443070192210893711"
     },
     "user_tz": -330
    },
    "id": "ET6B6a-C_KUb",
    "outputId": "7a4461c1-35d6-4e90-8a0a-b4f20d504b7c"
   },
   "outputs": [
    {
     "data": {
      "text/plain": [
       "Output hidden; open in https://colab.research.google.com to view."
      ]
     },
     "metadata": {},
     "output_type": "display_data"
    }
   ],
   "source": [
    "sns.pairplot(df, hue=\"class\")"
   ]
  },
  {
   "cell_type": "code",
   "execution_count": 98,
   "metadata": {
    "colab": {
     "base_uri": "https://localhost:8080/",
     "height": 1000
    },
    "colab_type": "code",
    "executionInfo": {
     "elapsed": 136934,
     "status": "ok",
     "timestamp": 1574444483365,
     "user": {
      "displayName": "Vasant Rajadhyax",
      "photoUrl": "https://lh3.googleusercontent.com/a-/AAuE7mAFi7If5nThqBjjwpVBylU6mjSe55mxFjoYmyTJ=s64",
      "userId": "04443070192210893711"
     },
     "user_tz": -330
    },
    "id": "tO0bEcsd_KST",
    "outputId": "74af90f7-99ab-4f86-fbbe-b4ed335c970f"
   },
   "outputs": [
    {
     "data": {
      "text/plain": [
       "<matplotlib.axes._subplots.AxesSubplot at 0x7fa914e4f390>"
      ]
     },
     "execution_count": 98,
     "metadata": {
      "tags": []
     },
     "output_type": "execute_result"
    },
    {
     "data": {
      "image/png": "[encoded data removed]",
      "text/plain": [
       "<Figure size 2160x1080 with 2 Axes>"
      ]
     },
     "metadata": {
      "tags": []
     },
     "output_type": "display_data"
    }
   ],
   "source": [
    "plt.figure(figsize=(30, 15))\n",
    "sns.heatmap(df.corr(), annot=True, cmap='coolwarm')"
   ]
  },
  {
   "cell_type": "markdown",
   "metadata": {},
   "source": [
    "From this heatmap we can conclude that **scaled_radius_of_gyration.1**, **pr.axis_aspect_ratio**, **skewness_about**, **skewness_about.1**, **skewness_about.2** and **hollows_ratio** are less corelated feature."
   ]
  },
  {
   "cell_type": "code",
   "execution_count": 99,
   "metadata": {
    "colab": {
     "base_uri": "https://localhost:8080/",
     "height": 297
    },
    "colab_type": "code",
    "executionInfo": {
     "elapsed": 136925,
     "status": "ok",
     "timestamp": 1574444483366,
     "user": {
      "displayName": "Vasant Rajadhyax",
      "photoUrl": "https://lh3.googleusercontent.com/a-/AAuE7mAFi7If5nThqBjjwpVBylU6mjSe55mxFjoYmyTJ=s64",
      "userId": "04443070192210893711"
     },
     "user_tz": -330
    },
    "id": "pM4nphT9rVs1",
    "outputId": "7630fe89-19d4-467d-a1f3-de18d624fd42"
   },
   "outputs": [
    {
     "data": {
      "text/plain": [
       "<matplotlib.axes._subplots.AxesSubplot at 0x7fa915144160>"
      ]
     },
     "execution_count": 99,
     "metadata": {
      "tags": []
     },
     "output_type": "execute_result"
    },
    {
     "data": {
      "image/png": "[encoded data removed]",
      "text/plain": [
       "<Figure size 432x288 with 1 Axes>"
      ]
     },
     "metadata": {
      "tags": []
     },
     "output_type": "display_data"
    }
   ],
   "source": [
    "sns.scatterplot(x=\"distance_circularity\", y=\"scatter_ratio\", data=df)"
   ]
  },
  {
   "cell_type": "code",
   "execution_count": 100,
   "metadata": {
    "colab": {
     "base_uri": "https://localhost:8080/",
     "height": 296
    },
    "colab_type": "code",
    "executionInfo": {
     "elapsed": 136916,
     "status": "ok",
     "timestamp": 1574444483367,
     "user": {
      "displayName": "Vasant Rajadhyax",
      "photoUrl": "https://lh3.googleusercontent.com/a-/AAuE7mAFi7If5nThqBjjwpVBylU6mjSe55mxFjoYmyTJ=s64",
      "userId": "04443070192210893711"
     },
     "user_tz": -330
    },
    "id": "n759X3a1stKE",
    "outputId": "f0f290fc-503f-4646-8489-dd65fe835e13"
   },
   "outputs": [
    {
     "data": {
      "text/plain": [
       "<matplotlib.axes._subplots.AxesSubplot at 0x7fa9149d8ba8>"
      ]
     },
     "execution_count": 100,
     "metadata": {
      "tags": []
     },
     "output_type": "execute_result"
    },
    {
     "data": {
      "image/png": "[encoded data removed]",
      "text/plain": [
       "<Figure size 432x288 with 1 Axes>"
      ]
     },
     "metadata": {
      "tags": []
     },
     "output_type": "display_data"
    }
   ],
   "source": [
    "sns.scatterplot(x=\"circularity\", y=\"max.length_rectangularity\", data=df)"
   ]
  },
  {
   "cell_type": "code",
   "execution_count": 101,
   "metadata": {
    "colab": {
     "base_uri": "https://localhost:8080/",
     "height": 297
    },
    "colab_type": "code",
    "executionInfo": {
     "elapsed": 136906,
     "status": "ok",
     "timestamp": 1574444483368,
     "user": {
      "displayName": "Vasant Rajadhyax",
      "photoUrl": "https://lh3.googleusercontent.com/a-/AAuE7mAFi7If5nThqBjjwpVBylU6mjSe55mxFjoYmyTJ=s64",
      "userId": "04443070192210893711"
     },
     "user_tz": -330
    },
    "id": "ZuCXnlB_veH7",
    "outputId": "7d634478-aef5-47b2-b5d6-42bf91fb61a5"
   },
   "outputs": [
    {
     "data": {
      "text/plain": [
       "<matplotlib.axes._subplots.AxesSubplot at 0x7fa9149d27f0>"
      ]
     },
     "execution_count": 101,
     "metadata": {
      "tags": []
     },
     "output_type": "execute_result"
    },
    {
     "data": {
      "image/png": "[encoded data removed]",
      "text/plain": [
       "<Figure size 432x288 with 1 Axes>"
      ]
     },
     "metadata": {
      "tags": []
     },
     "output_type": "display_data"
    }
   ],
   "source": [
    "sns.scatterplot(x=\"pr.axis_rectangularity\", y=\"scatter_ratio\", data=df)"
   ]
  },
  {
   "cell_type": "markdown",
   "metadata": {
    "colab_type": "text",
    "id": "l6QZh71PpgPf"
   },
   "source": [
    "From above information we are going to drop the features which are having minimum co-relation."
   ]
  },
  {
   "cell_type": "code",
   "execution_count": 0,
   "metadata": {
    "colab": {},
    "colab_type": "code",
    "id": "6DVwFMNxqr5d"
   },
   "outputs": [],
   "source": [
    "df.drop(columns=[\"scaled_radius_of_gyration.1\", \"pr.axis_aspect_ratio\", \"skewness_about\", \"skewness_about.1\", \"skewness_about.2\", \"hollows_ratio\"], inplace=True)"
   ]
  },
  {
   "cell_type": "code",
   "execution_count": 0,
   "metadata": {
    "colab": {},
    "colab_type": "code",
    "id": "m_r1O3hME197"
   },
   "outputs": [],
   "source": [
    "X = df.drop(columns=\"class\").values\n",
    "y = df[\"class\"].values"
   ]
  },
  {
   "cell_type": "code",
   "execution_count": 104,
   "metadata": {
    "colab": {
     "base_uri": "https://localhost:8080/",
     "height": 238
    },
    "colab_type": "code",
    "executionInfo": {
     "elapsed": 136885,
     "status": "ok",
     "timestamp": 1574444483370,
     "user": {
      "displayName": "Vasant Rajadhyax",
      "photoUrl": "https://lh3.googleusercontent.com/a-/AAuE7mAFi7If5nThqBjjwpVBylU6mjSe55mxFjoYmyTJ=s64",
      "userId": "04443070192210893711"
     },
     "user_tz": -330
    },
    "id": "rjiWLSolE16e",
    "outputId": "b476b7a5-9032-4d57-ee76-411cd1daeb1e"
   },
   "outputs": [
    {
     "data": {
      "text/plain": [
       "array([[ 0.16058035,  0.51807313,  0.05717723, ..., -0.40191985,\n",
       "        -0.341934  ,  0.39417321],\n",
       "       [-0.32546965, -0.62373151,  0.12074088, ..., -0.59335695,\n",
       "        -0.61972438, -0.46982619],\n",
       "       [ 1.25419283,  0.84430302,  1.51914112, ...,  1.09767077,\n",
       "         1.109379  ,  1.59048007],\n",
       "       ...,\n",
       "       [ 1.49721783,  1.49676282,  1.20132288, ...,  1.25720168,\n",
       "         1.59692947,  0.92586515],\n",
       "       [-0.93303214, -1.43930625, -0.26064101, ..., -1.07194971,\n",
       "        -0.95987586, -0.80213365],\n",
       "       [-1.05454464, -1.43930625, -1.02340478, ..., -1.55054246,\n",
       "        -1.28868896, -1.36705633]])"
      ]
     },
     "execution_count": 104,
     "metadata": {
      "tags": []
     },
     "output_type": "execute_result"
    }
   ],
   "source": [
    "from scipy.stats import zscore\n",
    "X_scaled= zscore(X)\n",
    "X_scaled"
   ]
  },
  {
   "cell_type": "code",
   "execution_count": 105,
   "metadata": {
    "colab": {
     "base_uri": "https://localhost:8080/",
     "height": 442
    },
    "colab_type": "code",
    "executionInfo": {
     "elapsed": 136877,
     "status": "ok",
     "timestamp": 1574444483371,
     "user": {
      "displayName": "Vasant Rajadhyax",
      "photoUrl": "https://lh3.googleusercontent.com/a-/AAuE7mAFi7If5nThqBjjwpVBylU6mjSe55mxFjoYmyTJ=s64",
      "userId": "04443070192210893711"
     },
     "user_tz": -330
    },
    "id": "Lp6gyiS1E13L",
    "outputId": "29c5ac0b-2370-4b0b-e610-0e80c1cf0e6f"
   },
   "outputs": [
    {
     "name": "stdout",
     "output_type": "stream",
     "text": [
      "Covariance Matrix \n",
      "%s [[ 1.00118343  0.68569786  0.79086299  0.73701832  0.52218497  0.81358214\n",
      "  -0.78968322  0.81465658  0.67694334  0.76297234  0.81497566  0.49219572]\n",
      " [ 0.68569786  1.00118343  0.79325751  0.64673913  0.57256641  0.8489411\n",
      "  -0.82244387  0.84439802  0.96245572  0.79724837  0.83693508  0.86883169]\n",
      " [ 0.79086299  0.79325751  1.00118343  0.8056218   0.67983048  0.90614687\n",
      "  -0.9123854   0.89408198  0.77544391  0.86253904  0.88706577  0.64684064]\n",
      " [ 0.73701832  0.64673913  0.8056218   1.00118343  0.46812133  0.7837959\n",
      "  -0.83965529  0.75754644  0.58371086  0.77975331  0.7684914   0.54087315]\n",
      " [ 0.52218497  0.57256641  0.67983048  0.46812133  1.00118343  0.50973344\n",
      "  -0.51704329  0.50837988  0.6540018   0.41055691  0.46984191  0.52997614]\n",
      " [ 0.81358214  0.8489411   0.90614687  0.7837959   0.50973344  1.00118343\n",
      "  -0.97275069  0.99092181  0.81004084  0.94978498  0.9941867   0.65949914]\n",
      " [-0.78968322 -0.82244387 -0.9123854  -0.83965529 -0.51704329 -0.97275069\n",
      "   1.00118343 -0.95011894 -0.77677186 -0.93748998 -0.95494487 -0.67523458]\n",
      " [ 0.81465658  0.84439802  0.89408198  0.75754644  0.50837988  0.99092181\n",
      "  -0.95011894  1.00118343  0.81189327  0.93533261  0.98938264  0.64675833]\n",
      " [ 0.67694334  0.96245572  0.77544391  0.58371086  0.6540018   0.81004084\n",
      "  -0.77677186  0.81189327  1.00118343  0.74586628  0.79555492  0.81881056]\n",
      " [ 0.76297234  0.79724837  0.86253904  0.77975331  0.41055691  0.94978498\n",
      "  -0.93748998  0.93533261  0.74586628  1.00118343  0.94679667  0.61668871]\n",
      " [ 0.81497566  0.83693508  0.88706577  0.7684914   0.46984191  0.9941867\n",
      "  -0.95494487  0.98938264  0.79555492  0.94679667  1.00118343  0.63122236]\n",
      " [ 0.49219572  0.86883169  0.64684064  0.54087315  0.52997614  0.65949914\n",
      "  -0.67523458  0.64675833  0.81881056  0.61668871  0.63122236  1.00118343]]\n"
     ]
    }
   ],
   "source": [
    "cov_matrix = np.cov(X_scaled.T)\n",
    "print('Covariance Matrix \\n%s', cov_matrix)"
   ]
  },
  {
   "cell_type": "code",
   "execution_count": 106,
   "metadata": {
    "colab": {
     "base_uri": "https://localhost:8080/",
     "height": 527
    },
    "colab_type": "code",
    "executionInfo": {
     "elapsed": 136869,
     "status": "ok",
     "timestamp": 1574444483372,
     "user": {
      "displayName": "Vasant Rajadhyax",
      "photoUrl": "https://lh3.googleusercontent.com/a-/AAuE7mAFi7If5nThqBjjwpVBylU6mjSe55mxFjoYmyTJ=s64",
      "userId": "04443070192210893711"
     },
     "user_tz": -330
    },
    "id": "S3nZIwQS_KQX",
    "outputId": "96f1ec96-c269-42a1-a957-7b8108fc0157"
   },
   "outputs": [
    {
     "name": "stdout",
     "output_type": "stream",
     "text": [
      "Eigenvectors \n",
      "[[ 0.27379696 -0.18350633  0.29222387 -0.22261508 -0.82516842  0.24751191\n",
      "   0.05018532 -0.07751029 -0.0709456   0.02340372 -0.00654711 -0.00964533]\n",
      " [ 0.29680146  0.28391577 -0.29633364 -0.04055271 -0.14380401 -0.33055908\n",
      "   0.12559181  0.0744358   0.108005    0.75060993  0.01128298 -0.12398404]\n",
      " [ 0.30566751 -0.02520836  0.24773772  0.04186048  0.25171967  0.19391502\n",
      "   0.79267451  0.32553368  0.06947621 -0.05040842 -0.00100307  0.01287629]\n",
      " [ 0.26791448 -0.24013348  0.24847781  0.75916201 -0.1248152  -0.40694814\n",
      "  -0.12875871  0.04866114  0.1576814  -0.08395777 -0.02048835  0.00501206]\n",
      " [ 0.20362413  0.52818976  0.69522112 -0.10991313  0.2350163   0.02972416\n",
      "  -0.27195137 -0.19788308  0.05283004  0.10632893  0.02286016  0.01698828]\n",
      " [ 0.31684844 -0.16638572 -0.07347246 -0.14881     0.15349836  0.06570198\n",
      "  -0.22350784  0.14366644  0.00451104  0.02866541 -0.83731808  0.20967195]\n",
      " [-0.31360689  0.16635402  0.02457989 -0.10269228 -0.19812748 -0.11402234\n",
      "   0.15997624 -0.07261935  0.83850843 -0.14025734 -0.2063422   0.11983327]\n",
      " [ 0.31391963 -0.15874918 -0.0752472  -0.22908629  0.12603979  0.05652425\n",
      "  -0.26906271  0.22892304  0.33666387 -0.20192468  0.15481189 -0.7043764 ]\n",
      " [ 0.28767723  0.36645445 -0.17914143 -0.22937678 -0.1364377  -0.53052455\n",
      "   0.12544282 -0.00318705 -0.22536829 -0.57060653 -0.00957135  0.07717311]\n",
      " [ 0.30235327 -0.24877029 -0.14508116 -0.03181103  0.2004351   0.01445009\n",
      "   0.19727642 -0.85542379  0.10727509 -0.01058462  0.01008408 -0.04316038]\n",
      " [ 0.31267819 -0.20337017 -0.10156261 -0.20137434  0.11198581  0.02446308\n",
      "  -0.22806723  0.1728713   0.25274696  0.01897195  0.48065753  0.64783895]\n",
      " [ 0.24706163  0.47993664 -0.38108307  0.42342641 -0.11920833  0.56797783\n",
      "  -0.09070536 -0.03146104  0.09044961 -0.16676348  0.00401564  0.04553169]]\n",
      "\n",
      "Eigenvalues \n",
      "[9.44565190e+00 9.67083052e-01 6.45672159e-01 3.47290881e-01\n",
      " 2.63904975e-01 1.25331448e-01 7.78531254e-02 6.80330139e-02\n",
      " 3.74381468e-02 2.22377553e-02 3.47525991e-03 1.02294627e-02]\n"
     ]
    }
   ],
   "source": [
    "e_vals, e_vecs = np.linalg.eig(cov_matrix)\n",
    "e_vals, e_vecs = np.linalg.eig(cov_matrix)\n",
    "print('Eigenvectors \\n%s' %e_vecs)\n",
    "print('\\nEigenvalues \\n%s' %e_vals)"
   ]
  },
  {
   "cell_type": "code",
   "execution_count": 107,
   "metadata": {
    "colab": {
     "base_uri": "https://localhost:8080/",
     "height": 420
    },
    "colab_type": "code",
    "executionInfo": {
     "elapsed": 136860,
     "status": "ok",
     "timestamp": 1574444483372,
     "user": {
      "displayName": "Vasant Rajadhyax",
      "photoUrl": "https://lh3.googleusercontent.com/a-/AAuE7mAFi7If5nThqBjjwpVBylU6mjSe55mxFjoYmyTJ=s64",
      "userId": "04443070192210893711"
     },
     "user_tz": -330
    },
    "id": "uq0XVML5_KOQ",
    "outputId": "078a12a0-42ef-4807-923d-7035ad89bb49"
   },
   "outputs": [
    {
     "name": "stdout",
     "output_type": "stream",
     "text": [
      "Cumulative Variance Explained [ 78.6207236   86.67022299  92.04446427  94.93513403  97.13174262\n",
      "  98.1749368   98.82294597  99.38921761  99.70083339  99.88592897\n",
      "  99.97107373 100.        ]\n"
     ]
    },
    {
     "data": {
      "image/png": "[encoded data removed]",
      "text/plain": [
       "<Figure size 720x360 with 1 Axes>"
      ]
     },
     "metadata": {
      "tags": []
     },
     "output_type": "display_data"
    }
   ],
   "source": [
    "tot = sum(e_vals)\n",
    "var_exp = [( i /tot ) * 100 for i in sorted(e_vals, reverse=True)]\n",
    "cum_var_exp = np.cumsum(var_exp)\n",
    "print(\"Cumulative Variance Explained\", cum_var_exp)\n",
    "plt.figure(figsize=(10 , 5))\n",
    "plt.bar(range(1, e_vals.size + 1), var_exp, alpha = 0.5, align = 'center', label = 'Individual explained variance')\n",
    "plt.step(range(1, e_vals.size + 1), cum_var_exp, where='mid', label = 'Cumulative explained variance')\n",
    "plt.ylabel('Explained Variance Ratio')\n",
    "plt.xlabel('Principal Components')\n",
    "plt.legend(loc = 'best')\n",
    "plt.tight_layout()\n",
    "plt.show()"
   ]
  },
  {
   "cell_type": "markdown",
   "metadata": {},
   "source": [
    "As per the **Cumulative Variance** to achieve above 95% variance, we need to select 5 principal component."
   ]
  },
  {
   "cell_type": "code",
   "execution_count": 109,
   "metadata": {
    "colab": {
     "base_uri": "https://localhost:8080/",
     "height": 221
    },
    "colab_type": "code",
    "executionInfo": {
     "elapsed": 1148,
     "status": "ok",
     "timestamp": 1574444615163,
     "user": {
      "displayName": "Vasant Rajadhyax",
      "photoUrl": "https://lh3.googleusercontent.com/a-/AAuE7mAFi7If5nThqBjjwpVBylU6mjSe55mxFjoYmyTJ=s64",
      "userId": "04443070192210893711"
     },
     "user_tz": -330
    },
    "id": "5KsG1HlnNZVH",
    "outputId": "5bf2c88d-fb1b-4f08-a078-3bc0391f1302"
   },
   "outputs": [
    {
     "data": {
      "text/plain": [
       "array([[ 0.39428957, -1.51161207,  3.87681671, ...,  5.15023938,\n",
       "        -3.36104407, -4.83520466],\n",
       "       [-1.25614113, -0.51421227, -0.13513077, ..., -0.38686914,\n",
       "         0.36771225,  0.39299638],\n",
       "       [-0.46680368, -0.69743724, -0.26706257, ..., -0.75051299,\n",
       "        -0.5619024 ,  0.17756396],\n",
       "       [ 0.22470618, -0.39010723,  0.61524275, ..., -0.11673688,\n",
       "         0.31889479, -0.27045903],\n",
       "       [-0.37200391,  0.23756228, -0.13690428, ..., -0.08827541,\n",
       "         0.35281952, -0.25376978],\n",
       "       [ 0.45471838, -0.26669104, -0.6690969 , ...,  0.4942046 ,\n",
       "        -0.5869631 , -0.0525319 ]])"
      ]
     },
     "execution_count": 109,
     "metadata": {
      "tags": []
     },
     "output_type": "execute_result"
    }
   ],
   "source": [
    "from sklearn.decomposition import PCA\n",
    "pca = PCA(n_components=6)\n",
    "data_reduced = pca.fit_transform(X_scaled)\n",
    "data_reduced.transpose()"
   ]
  },
  {
   "cell_type": "code",
   "execution_count": 110,
   "metadata": {
    "colab": {
     "base_uri": "https://localhost:8080/",
     "height": 323
    },
    "colab_type": "code",
    "executionInfo": {
     "elapsed": 1132,
     "status": "ok",
     "timestamp": 1574444619111,
     "user": {
      "displayName": "Vasant Rajadhyax",
      "photoUrl": "https://lh3.googleusercontent.com/a-/AAuE7mAFi7If5nThqBjjwpVBylU6mjSe55mxFjoYmyTJ=s64",
      "userId": "04443070192210893711"
     },
     "user_tz": -330
    },
    "id": "uAvCzhZrNZKP",
    "outputId": "e64633bd-c799-42fb-cd2f-a85f28e1611c"
   },
   "outputs": [
    {
     "data": {
      "text/plain": [
       "array([[ 0.27379696,  0.29680146,  0.30566751,  0.26791448,  0.20362413,\n",
       "         0.31684844, -0.31360689,  0.31391963,  0.28767723,  0.30235327,\n",
       "         0.31267819,  0.24706163],\n",
       "       [ 0.18350633, -0.28391577,  0.02520836,  0.24013348, -0.52818976,\n",
       "         0.16638572, -0.16635402,  0.15874918, -0.36645445,  0.24877029,\n",
       "         0.20337017, -0.47993664],\n",
       "       [-0.29222387,  0.29633364, -0.24773772, -0.24847781, -0.69522112,\n",
       "         0.07347246, -0.02457989,  0.0752472 ,  0.17914143,  0.14508116,\n",
       "         0.10156261,  0.38108307],\n",
       "       [-0.22261508, -0.04055271,  0.04186048,  0.75916201, -0.10991313,\n",
       "        -0.14881   , -0.10269228, -0.22908629, -0.22937678, -0.03181103,\n",
       "        -0.20137434,  0.42342641],\n",
       "       [-0.82516842, -0.14380401,  0.25171967, -0.1248152 ,  0.2350163 ,\n",
       "         0.15349836, -0.19812748,  0.12603979, -0.1364377 ,  0.2004351 ,\n",
       "         0.11198581, -0.11920833],\n",
       "       [-0.24751191,  0.33055908, -0.19391502,  0.40694814, -0.02972416,\n",
       "        -0.06570198,  0.11402234, -0.05652425,  0.53052455, -0.01445009,\n",
       "        -0.02446308, -0.56797783]])"
      ]
     },
     "execution_count": 110,
     "metadata": {
      "tags": []
     },
     "output_type": "execute_result"
    }
   ],
   "source": [
    "pca.components_"
   ]
  },
  {
   "cell_type": "code",
   "execution_count": 111,
   "metadata": {
    "colab": {
     "base_uri": "https://localhost:8080/",
     "height": 353
    },
    "colab_type": "code",
    "executionInfo": {
     "elapsed": 1398,
     "status": "ok",
     "timestamp": 1574444623287,
     "user": {
      "displayName": "Vasant Rajadhyax",
      "photoUrl": "https://lh3.googleusercontent.com/a-/AAuE7mAFi7If5nThqBjjwpVBylU6mjSe55mxFjoYmyTJ=s64",
      "userId": "04443070192210893711"
     },
     "user_tz": -330
    },
    "id": "kAugGI5AMWjg",
    "outputId": "67095693-9031-4e70-d465-ce72bb89b5a2"
   },
   "outputs": [
    {
     "data": {
      "text/plain": [
       "<Figure size 2160x720 with 0 Axes>"
      ]
     },
     "metadata": {
      "tags": []
     },
     "output_type": "display_data"
    },
    {
     "data": {
      "image/png": "[encoded data removed]",
      "text/plain": [
       "<Figure size 576x288 with 2 Axes>"
      ]
     },
     "metadata": {
      "tags": []
     },
     "output_type": "display_data"
    }
   ],
   "source": [
    "plt.figure(figsize=(30 , 10))\n",
    "plt.matshow(pca.components_,cmap='viridis')\n",
    "plt.yticks([0,1,2,3,4],['1st Comp','2nd Comp','3rd Comp', '4th Comp','5th Comp'],fontsize=10)\n",
    "plt.colorbar()\n",
    "plt.xticks(range(len(df.drop(columns=\"class\").columns)),df.columns,rotation=65,ha='left')\n",
    "plt.tight_layout()\n",
    "plt.show()"
   ]
  },
  {
   "cell_type": "code",
   "execution_count": 112,
   "metadata": {
    "colab": {
     "base_uri": "https://localhost:8080/",
     "height": 34
    },
    "colab_type": "code",
    "executionInfo": {
     "elapsed": 1663,
     "status": "ok",
     "timestamp": 1574444672235,
     "user": {
      "displayName": "Vasant Rajadhyax",
      "photoUrl": "https://lh3.googleusercontent.com/a-/AAuE7mAFi7If5nThqBjjwpVBylU6mjSe55mxFjoYmyTJ=s64",
      "userId": "04443070192210893711"
     },
     "user_tz": -330
    },
    "id": "-b27LGqlq4dm",
    "outputId": "3117626a-44d9-41fd-9760-b8404c7ac96a"
   },
   "outputs": [
    {
     "data": {
      "text/plain": [
       "{'C': [0.01, 0.05, 0.5, 1], 'kernel': ('linear', 'rbf')}"
      ]
     },
     "execution_count": 112,
     "metadata": {
      "tags": []
     },
     "output_type": "execute_result"
    }
   ],
   "source": [
    "from sklearn.model_selection import GridSearchCV\n",
    "C=[0.01, 0.05, 0.5, 1]\n",
    "kernel=(\"linear\", \"rbf\")\n",
    "param_grid = dict(C=C,kernel=kernel)\n",
    "param_grid"
   ]
  },
  {
   "cell_type": "code",
   "execution_count": 0,
   "metadata": {
    "colab": {},
    "colab_type": "code",
    "id": "tlqV2ZfwuPTa"
   },
   "outputs": [],
   "source": [
    "grid = GridSearchCV(estimator=model, param_grid=param_grid, cv = 10, n_jobs=-1, verbose=3)"
   ]
  },
  {
   "cell_type": "code",
   "execution_count": 114,
   "metadata": {
    "colab": {
     "base_uri": "https://localhost:8080/",
     "height": 85
    },
    "colab_type": "code",
    "executionInfo": {
     "elapsed": 32416,
     "status": "ok",
     "timestamp": 1574444709755,
     "user": {
      "displayName": "Vasant Rajadhyax",
      "photoUrl": "https://lh3.googleusercontent.com/a-/AAuE7mAFi7If5nThqBjjwpVBylU6mjSe55mxFjoYmyTJ=s64",
      "userId": "04443070192210893711"
     },
     "user_tz": -330
    },
    "id": "TgEL1pfQSHqe",
    "outputId": "1c39ee7f-6315-42ac-95ce-43c726d89625"
   },
   "outputs": [
    {
     "name": "stdout",
     "output_type": "stream",
     "text": [
      "Fitting 10 folds for each of 8 candidates, totalling 80 fits\n"
     ]
    },
    {
     "name": "stderr",
     "output_type": "stream",
     "text": [
      "[Parallel(n_jobs=-1)]: Using backend LokyBackend with 2 concurrent workers.\n",
      "[Parallel(n_jobs=-1)]: Done  34 tasks      | elapsed:    3.0s\n",
      "[Parallel(n_jobs=-1)]: Done  80 out of  80 | elapsed:   29.0s finished\n"
     ]
    }
   ],
   "source": [
    "grid_result = grid.fit(X, y)"
   ]
  },
  {
   "cell_type": "code",
   "execution_count": 115,
   "metadata": {
    "colab": {
     "base_uri": "https://localhost:8080/",
     "height": 51
    },
    "colab_type": "code",
    "executionInfo": {
     "elapsed": 1888,
     "status": "ok",
     "timestamp": 1574444721442,
     "user": {
      "displayName": "Vasant Rajadhyax",
      "photoUrl": "https://lh3.googleusercontent.com/a-/AAuE7mAFi7If5nThqBjjwpVBylU6mjSe55mxFjoYmyTJ=s64",
      "userId": "04443070192210893711"
     },
     "user_tz": -330
    },
    "id": "2-cTEVCn9rzr",
    "outputId": "e004b753-eb2b-471b-8de9-a1b31ef1461d"
   },
   "outputs": [
    {
     "name": "stdout",
     "output_type": "stream",
     "text": [
      "Best: 0.884161 using {'C': 0.5, 'kernel': 'linear'}\n",
      "Execution time: 0.0011658668518066406 ms\n"
     ]
    }
   ],
   "source": [
    "# Summarize results\n",
    "import time\n",
    "start_time = time.time()\n",
    "print(\"Best: %f using %s\" % (grid_result.best_score_, grid_result.best_params_))\n",
    "print(\"Execution time: \" + str((time.time() - start_time)) + ' ms')"
   ]
  },
  {
   "cell_type": "markdown",
   "metadata": {},
   "source": [
    "We can achieve best accuracy i.e. 88% by using parmeter **C** as 0.5 and **kernal** as linear."
   ]
  }
 ],
 "metadata": {
  "colab": {
   "collapsed_sections": [],
   "name": "Unsupervised_Learning_R5_Project_2.ipynb",
   "provenance": []
  },
  "kernelspec": {
   "display_name": "Python 3",
   "language": "python",
   "name": "python3"
  },
  "language_info": {
   "codemirror_mode": {
    "name": "ipython",
    "version": 3
   },
   "file_extension": ".py",
   "mimetype": "text/x-python",
   "name": "python",
   "nbconvert_exporter": "python",
   "pygments_lexer": "ipython3",
   "version": "3.7.3"
  }
 },
 "nbformat": 4,
 "nbformat_minor": 1
}
